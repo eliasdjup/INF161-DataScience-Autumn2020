{
 "cells": [
  {
   "cell_type": "markdown",
   "source": [
    "# Exercise 5\n",
    "Author: Elias Djupesland"
   ],
   "metadata": {
    "collapsed": false
   }
  },
  {
   "cell_type": "code",
   "execution_count": 30,
   "outputs": [],
   "source": [
    "import pandas as pd\n",
    "import numpy as np"
   ],
   "metadata": {
    "collapsed": false,
    "pycharm": {
     "name": "#%%\n"
    }
   }
  },
  {
   "cell_type": "code",
   "execution_count": 31,
   "outputs": [
    {
     "name": "stdout",
     "output_type": "stream",
     "text": [
      "Average good prosecco title length: 57.588235294117645\n",
      "Average bad prosecco title length: 53.73913043478261\n"
     ]
    }
   ],
   "source": [
    "# Down the rabbit hole on Prosecco\n",
    "\n",
    "read_df = pd.read_csv('winemag-data-130k-v2.csv')\n",
    "df = read_df[read_df['variety']==\"Prosecco\"].reset_index()\n",
    "\n",
    "good_prosecco = df[df['points'] > 89][['title','price','points']].sort_values(by='price', ascending=False)\n",
    "bad_prosecco = df[df['points'] < 85][['title','price','points']].sort_values(by='price', ascending=False)\n",
    "\n",
    "good_prosecco['length'] = good_prosecco['title'].str.len()\n",
    "bad_prosecco['length'] = bad_prosecco['title'].str.len()\n",
    "\n",
    "print(\"Average good prosecco title length: \" + str (good_prosecco['length'].mean()))\n",
    "print(\"Average bad prosecco title length: \" + str (bad_prosecco['length'].mean()))"
   ],
   "metadata": {
    "collapsed": false,
    "pycharm": {
     "name": "#%%\n"
    }
   }
  },
  {
   "cell_type": "code",
   "execution_count": 32,
   "outputs": [
    {
     "name": "stdout",
     "output_type": "stream",
     "text": [
      "          Country      Mean    q10    q90\n",
      "0       Australia  3.138636  2.025  4.000\n",
      "1      Bangladesh  3.714286  3.250  4.000\n",
      "2          Brazil  4.350000  4.000  4.800\n",
      "3        Cambodia  4.200000  3.500  5.000\n",
      "4          Canada  2.243902  0.250  3.500\n",
      "5           China  3.421893  1.750  4.500\n",
      "6        Colombia  3.291667  2.875  3.625\n",
      "7           Dubai  3.583333  3.350  3.750\n",
      "8         Estonia  3.500000  3.300  3.700\n",
      "9            Fiji  3.875000  3.475  4.175\n",
      "10        Finland  3.583333  3.500  3.700\n",
      "11        Germany  3.638889  3.000  4.350\n",
      "12          Ghana  3.500000  3.500  3.500\n",
      "13        Holland  3.562500  3.500  3.675\n",
      "14      Hong Kong  3.801825  2.750  5.000\n",
      "15        Hungary  3.611111  2.950  4.150\n",
      "16          India  3.395161  2.000  4.250\n",
      "17      Indonesia  4.067460  3.250  5.000\n",
      "18          Japan  3.981605  3.000  5.000\n",
      "19       Malaysia  4.154194  3.250  5.000\n",
      "20         Mexico  3.730000  3.000  4.000\n",
      "21        Myanmar  3.946429  2.975  5.000\n",
      "22          Nepal  3.553571  3.325  4.175\n",
      "23    Netherlands  2.483333  0.500  3.500\n",
      "24        Nigeria  1.500000  1.500  1.500\n",
      "25       Pakistan  3.000000  2.400  3.600\n",
      "26    Philippines  3.329787  1.900  4.500\n",
      "27         Poland  3.625000  3.250  4.000\n",
      "28        Sarawak  4.333333  4.000  4.800\n",
      "29      Singapore  4.126147  3.200  5.000\n",
      "30    South Korea  3.790554  2.750  5.000\n",
      "31         Sweden  3.250000  3.050  3.450\n",
      "32         Taiwan  3.665402  2.000  5.000\n",
      "33       Thailand  3.384817  2.000  4.750\n",
      "34             UK  2.997101  1.500  4.050\n",
      "35            USA  3.457043  2.000  4.750\n",
      "36  United States  3.750000  3.750  3.750\n",
      "37        Vietnam  3.187963  2.000  4.000\n"
     ]
    }
   ],
   "source": [
    "# The ramen king\n",
    "read_df = pd.read_csv('ramen-ratings.csv')\n",
    "read_df.loc[read_df['Stars'] == 'Unrated'] = np.nan\n",
    "read_df['Stars'] = read_df['Stars'].astype(float)\n",
    "\n",
    "\n",
    "df = read_df.groupby('Country')\n",
    "q10 = df['Stars'].quantile(q=0.1).values\n",
    "q90 = df['Stars'].quantile(q=0.9).values\n",
    "mean = df.Stars.mean().values\n",
    "d = {\"Country\": df.Stars.mean().index.values,\n",
    "     \"Mean\":mean,\n",
    "     \"q10\":q10,\n",
    "     \"q90\":q90\n",
    "     }\n",
    "result = pd.DataFrame(data=d)\n",
    "print(result)"
   ],
   "metadata": {
    "collapsed": false,
    "pycharm": {
     "name": "#%%\n"
    }
   }
  },
  {
   "cell_type": "code",
   "execution_count": 33,
   "outputs": [],
   "source": [
    "# Almost complete this\n",
    "df = read_df.groupby(['Country', 'Style']).Style.agg(['count'])\n"
   ],
   "metadata": {
    "collapsed": false,
    "pycharm": {
     "name": "#%%\n"
    }
   }
  },
  {
   "cell_type": "code",
   "execution_count": 35,
   "outputs": [
    {
     "name": "stderr",
     "output_type": "stream",
     "text": [
      "/home/elias/miniconda3/envs/pythonProject/lib/python3.8/site-packages/IPython/core/interactiveshell.py:3145: DtypeWarning: Columns (15,16,18,19,20) have mixed types.Specify dtype option on import or set low_memory=False.\n",
      "  has_raised = await self.run_ast_nodes(code_ast.body, cell_name,\n"
     ]
    },
    {
     "name": "stdout",
     "output_type": "stream",
     "text": [
      "        item_count gender\n",
      "0              1.0   Male\n",
      "1              1.0   Male\n",
      "2              1.0   Male\n",
      "3              2.0   Male\n",
      "4              1.0    NaN\n",
      "...            ...    ...\n",
      "132221         1.0    NaN\n",
      "132222         1.0    NaN\n",
      "132223         2.0    NaN\n",
      "132224         3.0    NaN\n",
      "132225         1.0   Male\n",
      "\n",
      "[132226 rows x 2 columns]\n",
      "   Gender  item_count\n",
      "0  female    2.381291\n",
      "1    male    2.423206\n"
     ]
    }
   ],
   "source": [
    "# Restaurants\n",
    "\n",
    "order_df = pd.read_csv('orders.csv')\n",
    "customers_df = pd.read_csv('customers.csv')\n",
    "\n",
    "resultdf = order_df.merge(customers_df,left_on=\"customer_id\",right_on=\"akeed_customer_id\")\n",
    "item_gender = resultdf[[\"item_count\",\"gender\"]]\n",
    "\n",
    "print(item_gender)\n",
    "\n",
    "male = item_gender[item_gender[\"gender\"] == \"Male\"]\n",
    "male_mean = male[\"item_count\"].mean()\n",
    "female = item_gender[item_gender[\"gender\"] == \"Female\"]\n",
    "female_mean = female[\"item_count\"].mean()\n",
    "\n",
    "result = { \"Gender\" : [\"female\", \"male\"],\n",
    "           \"item_count\" : [female_mean, male_mean]\n",
    "}\n",
    "\n",
    "result_df = pd.DataFrame(data=result)\n",
    "\n",
    "print(result_df)"
   ],
   "metadata": {
    "collapsed": false,
    "pycharm": {
     "name": "#%%\n"
    }
   }
  },
  {
   "cell_type": "code",
   "execution_count": 63,
   "outputs": [
    {
     "name": "stdout",
     "output_type": "stream",
     "text": [
      "       year      artist.inverted                                  track  time  \\\n",
      "0      2000      Destiny's Child               Independent Women Part I  3:38   \n",
      "1      2000              Santana                           Maria, Maria  4:18   \n",
      "2      2000        Savage Garden                     I Knew I Loved You  4:07   \n",
      "3      2000              Madonna                                  Music  3:45   \n",
      "4      2000  Aguilera, Christina  Come On Over Baby (All I Want Is You)  3:38   \n",
      "...     ...                  ...                                    ...   ...   \n",
      "19663  2000             Lonestar                                 Amazed  4:25   \n",
      "19700  2000                Creed                                 Higher  5:16   \n",
      "19980  2000             Lonestar                                 Amazed  4:25   \n",
      "20017  2000                Creed                                 Higher  5:16   \n",
      "20334  2000                Creed                                 Higher  5:16   \n",
      "\n",
      "         genre date.entered date.peaked  week  rank  \n",
      "0         Rock   2000-09-23  2000-11-18     1  78.0  \n",
      "1         Rock   2000-02-12  2000-04-08     1  15.0  \n",
      "2         Rock   1999-10-23  2000-01-29     1  71.0  \n",
      "3         Rock   2000-08-12  2000-09-16     1  41.0  \n",
      "4         Rock   2000-08-05  2000-10-14     1  57.0  \n",
      "...        ...          ...         ...   ...   ...  \n",
      "19663  Country   1999-06-05  2000-03-04    63  45.0  \n",
      "19700     Rock   1999-09-11  2000-07-22    63  50.0  \n",
      "19980  Country   1999-06-05  2000-03-04    64  50.0  \n",
      "20017     Rock   1999-09-11  2000-07-22    64  50.0  \n",
      "20334     Rock   1999-09-11  2000-07-22    65  49.0  \n",
      "\n",
      "[5307 rows x 9 columns]\n",
      "                                                         year  week       rank\n",
      "artist.inverted              track                                            \n",
      "Santana                      Maria, Maria              2000.0  13.5  10.500000\n",
      "Madonna                      Music                     2000.0  12.5  13.458333\n",
      "N'Sync                       Bye Bye Bye               2000.0  12.0  14.260870\n",
      "Elliott, Missy \"Misdemeanor\" Hot Boyz                  2000.0  11.0  14.333333\n",
      "Destiny's Child              Independent Women Part I  2000.0  14.5  14.821429\n",
      "Iglesias, Enrique            Be With You               2000.0  10.5  15.850000\n",
      "Aaliyah                      Try Again                 2000.0  16.5  16.656250\n",
      "Savage Garden                I Knew I Loved You        2000.0  17.0  17.363636\n",
      "Houston, Whitney             My Love Is Your Love      2000.0  14.5  17.857143\n",
      "Pink                         There U Go                2000.0  16.5  18.625000\n"
     ]
    }
   ],
   "source": [
    "df = pd.read_csv('billboard.csv')\n",
    "\n",
    "vars = [\"year\",\"artist.inverted\",\"track\",\"time\",\"genre\",\"date.entered\",\"date.peaked\"]\n",
    "\n",
    "df = pd.melt(frame=df,id_vars=vars, var_name=\"week\", value_name=\"rank\")\n",
    "df[\"week\"] = df['week'].str.extract('(\\d+)', expand=False).astype(int)\n",
    "df = df.dropna()\n",
    "\n",
    "print(df)\n",
    "\n",
    "tracks = df.groupby([\"artist.inverted\",\"track\"]).mean()\n",
    "\n",
    "print(tracks.sort_values(\"rank\").head(10))"
   ],
   "metadata": {
    "collapsed": false,
    "pycharm": {
     "name": "#%%\n"
    }
   }
  }
 ],
 "metadata": {
  "kernelspec": {
   "display_name": "Python 3",
   "language": "python",
   "name": "python3"
  },
  "language_info": {
   "codemirror_mode": {
    "name": "ipython",
    "version": 2
   },
   "file_extension": ".py",
   "mimetype": "text/x-python",
   "name": "python",
   "nbconvert_exporter": "python",
   "pygments_lexer": "ipython2",
   "version": "2.7.6"
  }
 },
 "nbformat": 4,
 "nbformat_minor": 0
}