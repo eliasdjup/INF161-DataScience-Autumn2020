{
 "cells": [
  {
   "cell_type": "markdown",
   "source": [
    "# Exercise Sheet 1\n",
    "---\n",
    "Elias Djupesland\n",
    "\n",
    "## 1\n",
    "*Compute the probability of rolling a 5 on a fair dice.*\n",
    "\n",
    "Assuming the fair dice has 6 sides, each face has 1/6 probability of landing face up.\n",
    "\n",
    "## 2\n",
    "*A family has two children.  You met one of them, Leo, and he is a boy.  What is the probability that the other child is also a boy?*\n",
    "\n",
    "Assuming that there is 1/2 probability of being born a boy, and that that the events of the children being born is independent, theres is 50% probability.\n",
    "\n",
    "## 3 \n",
    "*A building is examined by policemen with four dogs that are trained to  detect  the  scent  of  explosives.   If  there  are  explosives  in  a  certain  building,and each dog detects them with probability 0.6, independently of the other dogs,what is the probability that the explosives will be detected by at least one dog?*\n",
    "\n",
    "Since these are independent events there is a 0.6 probability that one of the dogs will detect the explosives.\n",
    "\n",
    "## 4\n",
    "*The probability that a particular hard drive will crash is 0.01.  There-fore,  it  has  two  backups,  each  having  a 0.02 probability  of  crashing.   All  hard drives  crash  independently  of  each  other.  What  is  the  probability  that  all  three hard drives will crash.*\n",
    "\n",
    "The probability of all three independent events happening is calculated using the rule of product. Hence it is 0.01 x 0.02 x 0.02 = 0.000004\n",
    "## 5\n",
    "*Suppose  that  a  shuttle’s  launch  depends  on  three  key  devices  that operate independently of each other and malfunction with probabilities 0.01, 0.02, and 0.02,  respectively.  The  launch  is  postponed  if  any  of  the  key  devices  mal-function.  What is the probability that the shuttle launches on schedule?*\n",
    "\n",
    "P(Shuttle launch) = 1 - P(0.01 * 0.02 * 0.02) = 0.999996\n",
    "\n",
    "## 6\n",
    "\n",
    "*Ninety  percent  of  flights  depart  on  time.  Eighty  percent  of  flights arrive on time.  Seventy-five percent of flights depart on time and arrive on time.*\n",
    "    1.  You  are  meeting  a  flight  that  departed  on  time.   What  is  the  probability that it will arrive on time?\n",
    "\n",
    "    A = Arrive on time\n",
    "    D = Departed on time\n",
    " $ P(A|D) = \\frac{P(A) \\cap P(D)}{P(D)} = \\frac{0.75}{0.9} \\approx 0.83$\n",
    "\n",
    "    2.  You have met a flight that arrived on time.  What is the probability that it departed on time?\n",
    " $ P(D|A) = \\frac{P(D) \\cap P(A)}{P(A)} = \\frac{0.75}{0.8} \\approx 0.94$\n",
    "    3.  Are the events departing on time and arriving on time independent?*\n",
    "\n",
    "    The two events are independent because:\n",
    " $ P(A|D) = P(A|\\neg D) \\land  P(D|A) = P(D|\\neg A)$\n",
    "\n",
    "## 7\n",
    "*As  part  of  a  business  strategy, 20%  of  new  internet  service  subscribers receive a special promotion from the provider.  A group of 10 neighbors sign  up  for  the  service.  What  is  the  probability  that  at  least 4 of  them  get  the promotion?*\n",
    "\n",
    "$$ \\sum_{k=4}^{10}\\binom{10}{k}(0.2)^{k}(0.8)^{10-k} = $$\n",
    "\n",
    "## 8\n",
    "*An exciting computer game is released. Sixty percent of players\n",
    "complete all levels. Of those players, thirty percent then buy an extended version\n",
    "of the game. Players who do not complete all levels never buy the extended\n",
    "version. Among 15 randomly selected players:*\n",
    "\n",
    "    1. What is the expected number of people that will buy the extended version?\n",
    "   $ (0.6)(0.3) = .18 $\n",
    "\n",
    "   18% of 15 players is 2.7, or approximately 3 players\n",
    "\n",
    "    2. What is the probability that at least two players will buy it?\n",
    "   $$ \\sum_{k=2}^{15}\\binom{15}{k}(0.18)^{k}(0.88)^{15-k} = $$\n",
    "\n",
    "## 9\n",
    "\n",
    "\n",
    "\n",
    "\n"
   ],
   "metadata": {
    "collapsed": false,
    "pycharm": {
     "name": "#%% md\n"
    }
   }
  }
 ],
 "metadata": {
  "kernelspec": {
   "display_name": "Python 3",
   "language": "python",
   "name": "python3"
  },
  "language_info": {
   "codemirror_mode": {
    "name": "ipython",
    "version": 2
   },
   "file_extension": ".py",
   "mimetype": "text/x-python",
   "name": "python",
   "nbconvert_exporter": "python",
   "pygments_lexer": "ipython2",
   "version": "2.7.6"
  }
 },
 "nbformat": 4,
 "nbformat_minor": 0
}