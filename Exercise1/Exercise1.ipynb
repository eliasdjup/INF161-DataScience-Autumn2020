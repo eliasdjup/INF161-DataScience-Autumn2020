{
 "cells": [
  {
   "cell_type": "markdown",
   "source": [
    "# Exercise Sheet 1\n",
    "---\n",
    "Elias Djupesland\n",
    "\n",
    "## 1\n",
    "*Compute the probability of rolling a 5 on a fair dice.*\n",
    "\n",
    "Assuming the fair dice has 6 sides, each face has 1/6 probability of landing face up.\n",
    "\n",
    "## 2\n",
    "*A family has two children.  You met one of them, Leo, and he is a boy.  What is the probability that the other child is also a boy?*\n",
    "\n",
    "Assuming that there is 1/2 probability of being born a boy, and that that the events of the children being born is independent, theres is 50% probability.\n",
    "\n",
    "## 3 \n",
    "*A building is examined by policemen with four dogs that are trained to  detect  the  scent  of  explosives.   If  there  are  explosives  in  a  certain  building,and each dog detects them with probability 0.6, independently of the other dogs,what is the probability that the explosives will be detected by at least one dog?*\n",
    "\n",
    "\n",
    "$$ 1 -0.4^{4} = 0.9744 $$\n",
    "\n",
    "97% probability that one of the dogs will detect the explosives.\n",
    "\n",
    "## 4\n",
    "*The probability that a particular hard drive will crash is 0.01.  There-fore,  it  has  two  backups,  each  having  a 0.02 probability  of  crashing.   All  hard drives  crash  independently  of  each  other.  What  is  the  probability  that  all  three hard drives will crash.*\n",
    "\n",
    "The probability of all three independent events happening is calculated using the rule of product. Hence it is 0.01 x 0.02 x 0.02 = 0.000004\n",
    "## 5\n",
    "*Suppose  that  a  shuttle’s  launch  depends  on  three  key  devices  that operate independently of each other and malfunction with probabilities 0.01, 0.02, and 0.02,  respectively.  The  launch  is  postponed  if  any  of  the  key  devices  mal-function.  What is the probability that the shuttle launches on schedule?*\n",
    "\n",
    "P(Shuttle launch)$ = (1 - 0.01) * (1 - 0.02) * (1 - 0.02) \\approx 0.95 $\n",
    "\n",
    "## 6\n",
    "\n",
    "*Ninety  percent  of  flights  depart  on  time.  Eighty  percent  of  flights arrive on time.  Seventy-five percent of flights depart on time and arrive on time.*\n",
    "    1.  You  are  meeting  a  flight  that  departed  on  time.   What  is  the  probability that it will arrive on time?\n",
    "\n",
    "    A = Arrive on time\n",
    "    D = Departed on time\n",
    " $ P(A|D) = \\frac{P(A) \\cap P(D)}{P(D)} = \\frac{0.75}{0.9} \\approx 0.83$\n",
    "\n",
    "    2.  You have met a flight that arrived on time.  What is the probability that it departed on time?\n",
    " $ P(D|A) = \\frac{P(D) \\cap P(A)}{P(A)} = \\frac{0.75}{0.8} \\approx 0.94$\n",
    "    3.  Are the events departing on time and arriving on time independent?*\n",
    "\n",
    "    The two events are dependent because they break the rule:\n",
    " $ P(A|D) = P(A|\\neg D) \\land  P(D|A) = P(D|\\neg A)$\n",
    "\n",
    "## 7\n",
    "*As  part  of  a  business  strategy, 20%  of  new  internet  service  subscribers receive a special promotion from the provider.  A group of 10 neighbors sign  up  for  the  service.  What  is  the  probability  that  at  least 4 of  them  get  the promotion?*\n",
    "\n",
    "$$ \\sum_{k=4}^{10}\\binom{10}{k}(0.2)^{k}(0.8)^{10-k} \\approx 0.12 $$\n",
    "\n",
    "## 8\n",
    "*An exciting computer game is released. Sixty percent of players\n",
    "complete all levels. Of those players, thirty percent then buy an extended version\n",
    "of the game. Players who do not complete all levels never buy the extended\n",
    "version. Among 15 randomly selected players:*\n",
    "\n",
    "    1. What is the expected number of people that will buy the extended version?\n",
    "   $ (0.6)(0.3) = .18 $\n",
    "\n",
    "   18% of 15 players is 2.7, or approximately 3 players\n",
    "\n",
    "    2. What is the probability that at least two players will buy it?\n",
    "   $$ \\sum_{k=2}^{15}\\binom{15}{k}(0.18)^{k}(0.88)^{15-k} \\approx 0.78 $$\n",
    "\n",
    "## 9\n",
    "*Suppose that the average household income in some country is 900\n",
    "coins, and the standard deviation is 200 coins. Assuming that income follows\n",
    "the Normal distribution, compute the proportion of “the middle class”, whose\n",
    "income is between 600 and 1200 coins.*"
   ],
   "metadata": {
    "collapsed": false,
    "pycharm": {
     "name": "#%% md\n"
    }
   }
  },
  {
   "cell_type": "code",
   "execution_count": 78,
   "outputs": [
    {
     "data": {
      "text/plain": "<Figure size 432x288 with 1 Axes>",
      "image/png": "[encoded data removed]"
     },
     "metadata": {
      "needs_background": "light"
     },
     "output_type": "display_data"
    },
    {
     "data": {
      "text/plain": "<Figure size 432x288 with 1 Axes>",
      "image/png": "[encoded data removed]"
     },
     "metadata": {
      "needs_background": "light"
     },
     "output_type": "display_data"
    }
   ],
   "source": [
    "#!/usr/bin/env python\n",
    "import matplotlib.pyplot as plt\n",
    "import numpy as np\n",
    "import scipy\n",
    "import scipy.stats as stats\n",
    "import math\n",
    "from numpy import poly1d\n",
    "\n",
    "mu = 900\n",
    "sd = 200 #Standard deviation\n",
    "variance = pow(sd,2)\n",
    "sigma = math.sqrt(variance)\n",
    "x = np.linspace(mu - 3*sigma, mu + 3*sigma, 100)\n",
    "#plt.plot(x, stats.norm.pdf(x, mu, sigma))\n",
    "plt.grid()\n",
    "plt.xticks(np.arange(x.min(), x.max(), 100))\n",
    "\n",
    "plt.plot((600, 600), (0, 0.0021), 'r-')\n",
    "plt.plot((1200, 1200), (0, 0.0021), 'r-')\n",
    "plt.fill_between(x, stats.norm.pdf(x, mu, sigma), color='#539ecd')\n",
    "\n",
    "plt.show()\n",
    "\n",
    "\n",
    "# Standard normal distribution\n",
    "plt.figure(2)\n",
    "\n",
    "def z(t):\n",
    "    return (t - mu) / sd\n",
    "\n",
    "plt.plot(z(x), x,'r')\n",
    "plt.xticks(np.arange(-3, 3, 0.5))\n",
    "\n",
    "\n",
    "o= plt.plot((-3, 3), (600, 600), 'g-')\n",
    "p= plt.plot((-3, 3), (1200, 1200), 'g-')"
   ],
   "metadata": {
    "collapsed": false,
    "pycharm": {
     "name": "#%%\n"
    }
   }
  },
  {
   "cell_type": "markdown",
   "source": [
    "<img src=\"https://mathbitsnotebook.com/Algebra2/Statistics/normalstandard.jpg\">\n",
    "\n",
    "The standard normal distribution for the values from 600 to 1200 is from -1.5 to 1.5 which gives a portion of **93.3 percent**\n",
    "\n",
    "## 10\n",
    "\n",
    "*A new computer program consists of two modules. The first module contains an error with probability 0.2. The second module is more complex;\n",
    "it has a probability of 0.4 to contain an error, independently of the first module.\n",
    "An error in the first module alone causes the program to crash with probability\n",
    "0.5. For the second module, this probability is 0.8. If there are errors in both\n",
    "modules, the program crashes with probability 0.9. Suppose the program crashed.\n",
    "What is the probability that there are errors in both modules?*\n",
    "\n",
    "## 13\n",
    "*Look at the sample in Figure 1 and compute the mean, median,\n",
    "mode, 75% quantile, variance, and standard deviation. Then, calculate the 95%\n",
    "and 90% confidence interval of the mean.*"
   ],
   "metadata": {
    "collapsed": false,
    "pycharm": {
     "name": "#%% md\n"
    }
   }
  },
  {
   "cell_type": "code",
   "execution_count": 116,
   "outputs": [
    {
     "name": "stdout",
     "output_type": "stream",
     "text": [
      "Data: [70, 36, 43, 69, 82, 48, 34, 62, 35, 15, 59, 139, 46, 37, 42, 30, 55, 56, 36, 82, 38, 89, 54, 25, 35, 24, 22, 9, 56, 19]\n",
      "Mean: 48.233333333333334\n",
      "Median: 42.5\n",
      "Mode: ModeResult(mode=array([35]), count=array([2]))\n",
      "75% quantile: 58.25\n",
      "Variance: 679.7122222222222\n",
      "Standard deviation: 26.07129114988788\n"
     ]
    }
   ],
   "source": [
    "import numpy as np\n",
    "import scipy\n",
    "\n",
    "data = [70,36,43,69,82,48,34,62,35,15,59,139,46,37,42,30,55,56,36,82,38,89,54,25,35,24,22,9,56,19]\n",
    "\n",
    "print(\"Data: \" + str(data))\n",
    "print(\"Mean: \"+ str(np.mean(data)))\n",
    "print(\"Median: \"+ str(np.median(data)))\n",
    "print(\"Mode: \"+ str(scipy.stats.mode(data,axis=None)))\n",
    "print(\"75% quantile: \"+ str(np.quantile(data,0.75)))\n",
    "print(\"Variance: \"+ str(np.var(data)))\n",
    "print(\"Standard deviation: \"+ str(np.std(data)))\n",
    "\n"
   ],
   "metadata": {
    "collapsed": false,
    "pycharm": {
     "name": "#%%\n"
    }
   }
  },
  {
   "cell_type": "markdown",
   "source": [
    "## 14\n",
    "A research study has been conducted to determine the effectiveness\n",
    "of a drug over time. The table below shows the results of the experiment.\n",
    "\n",
    "\n",
    "| Time (in years)   \t| 1  \t| 2  \t| 3  \t| 4  \t| 5  \t|\n",
    "|-------------------\t|----\t|----\t|----\t|----\t|----\t|\n",
    "| Effectiveness (%) \t| 96 \t| 84 \t| 70 \t| 58 \t| 52 \t|\n",
    "\n",
    "\n",
    "1. Fit a linear regression model to this data.\n",
    "\n",
    "2. According to the linear model, when will the effectiveness be 80%? When\n",
    "will the drug have lost all effectiveness?"
   ],
   "metadata": {
    "collapsed": false,
    "pycharm": {
     "name": "#%% md\n"
    }
   }
  },
  {
   "cell_type": "code",
   "execution_count": 106,
   "outputs": [
    {
     "name": "stdout",
     "output_type": "stream",
     "text": [
      "We can see that 80% effectiveness is be somewhere between 2-3, and if i run the poly function with x value 2.3 years i get an effectiveness of 79.97999999999999\n",
      "We can see that the drug will loose all effect between 9-10, and if i run the poly function with x value  i get an effectiveness of 0.1799999999999926\n"
     ]
    },
    {
     "data": {
      "text/plain": "<Figure size 432x288 with 1 Axes>",
      "image/png": "[encoded data removed]"
     },
     "metadata": {
      "needs_background": "light"
     },
     "output_type": "display_data"
    }
   ],
   "source": [
    "import numpy as np\n",
    "import matplotlib.pyplot as plt\n",
    "\n",
    "x = [1,2,3,4,5]\n",
    "x1 = [0,1,2,3,4,5,6,7,8,9,10]\n",
    "y = [96,84,70,58,52] # 10, not 9, so the fit isn't perfect\n",
    "\n",
    "coef = np.polyfit(x,y,1)\n",
    "poly1d_fn: int = np.poly1d(coef)\n",
    "# poly1d_fn is now a function which takes in x and returns an estimate for y\n",
    "\n",
    "plt.plot(x,y, 'yo')\n",
    "plt.plot(x1,poly1d_fn(x1), '--k')\n",
    "plt.plot((0, 5), (80, 80), 'r-')\n",
    "plt.xlim(0, 10)\n",
    "plt.ylim(0, 100)\n",
    "a = poly1d_fn(2.3)\n",
    "b = poly1d_fn(9.3)\n",
    "\n",
    "print(\"We can see that 80% effectiveness is be somewhere between 2-3, and if i run the poly function with x value 2.3 years i get an effectiveness of \" + str(a))\n",
    "print(\"We can see that the drug will loose all effect between 9-10, and if i run the poly function with x value  i get an effectiveness of \" + str(b))"
   ],
   "metadata": {
    "collapsed": false,
    "pycharm": {
     "name": "#%%\n"
    }
   }
  },
  {
   "cell_type": "markdown",
   "source": [
    "## 15\n",
    "*The script visualize.py generates a sample drawn from a binomial\n",
    "distribution. Run the python script visualize.py with different instances of the\n",
    "variable “num samples”. Explain what happens to the distribution of the data\n",
    "in different instances of the variable “num samples”.*\n",
    "\n",
    "The distribution of data looks more and more as a gaussian curve as num_samples increases\n"
   ],
   "metadata": {
    "collapsed": false,
    "pycharm": {
     "name": "#%% md\n"
    }
   }
  }
 ],
 "metadata": {
  "kernelspec": {
   "display_name": "Python 3",
   "language": "python",
   "name": "python3"
  },
  "language_info": {
   "codemirror_mode": {
    "name": "ipython",
    "version": 2
   },
   "file_extension": ".py",
   "mimetype": "text/x-python",
   "name": "python",
   "nbconvert_exporter": "python",
   "pygments_lexer": "ipython2",
   "version": "2.7.6"
  }
 },
 "nbformat": 4,
 "nbformat_minor": 0
}