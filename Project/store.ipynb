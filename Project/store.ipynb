{
 "cells": [
  {
   "cell_type": "code",
   "execution_count": null,
   "outputs": [],
   "source": [
    "def similar_users(user):\n",
    "    rec = []\n",
    "    for inx,x in enumerate(similarity_matrix.loc[user].values):\n",
    "        if True:\n",
    "            rec.append((inx,x))\n",
    "    rec.sort(key= lambda x: x[1], reverse=True)\n",
    "    return rec[0]\n",
    "\n",
    "\n",
    "\n",
    "\n",
    "def collaborative_filtering(user_id,movies_rated,N):\n",
    "\n",
    "    \"\"\"Collaborative filter prediction\n",
    "\n",
    "    Parameters:\n",
    "    user_id (int) : UserID\n",
    "    N (int) : Number of most correlated movies to use when predicting ranking for unknown data points\n",
    "    Returns: Number of ratings made by a user (used for content-based/collaborative hybrid) and predicted ratings for all movies not rated by given user\n",
    "    (int,[(int,[int])): (Number of ratings by user,[(movie_id, predicted rating)\n",
    "\n",
    "   \"\"\"\n",
    "    movies_not_rated = ratings_matrix[user_id][ratings_matrix[user_id] == 0].index.values\n",
    "    movies_rated_i = [to_index[id] for id in movies_rated]\n",
    "\n",
    "    rows = similarity_matrix.iloc[movies_rated_i, :]\n",
    "\n",
    "    result = []\n",
    "\n",
    "    for movie_id in movies_not_rated:\n",
    "        movie_index=to_index[movie_id]\n",
    "        movie_row = rows.iloc[:,movie_index].sort_values(ascending=False)\n",
    "        most_similar_corr = movie_row.values[:N]\n",
    "        most_similar_indexes = movie_row.index.values[:N]\n",
    "        most_similar_ratings = [ratings_matrix[user_id][to_id[x]] for x in most_similar_indexes]\n",
    "        predicted_rating = [x*y for x,y in zip(most_similar_corr,most_similar_ratings)]\n",
    "        pred = sum(predicted_rating)/sum(most_similar_corr)\n",
    "        result.append((movie_id,pred))\n",
    "\n",
    "    return (result,len(movies_rated))"
   ],
   "metadata": {
    "collapsed": false,
    "pycharm": {
     "name": "#%%\n"
    }
   }
  }
 ],
 "metadata": {
  "kernelspec": {
   "display_name": "Python 3",
   "language": "python",
   "name": "python3"
  },
  "language_info": {
   "codemirror_mode": {
    "name": "ipython",
    "version": 2
   },
   "file_extension": ".py",
   "mimetype": "text/x-python",
   "name": "python",
   "nbconvert_exporter": "python",
   "pygments_lexer": "ipython2",
   "version": "2.7.6"
  }
 },
 "nbformat": 4,
 "nbformat_minor": 0
}