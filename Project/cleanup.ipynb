{
 "cells": [
  {
   "cell_type": "markdown",
   "source": [
    "# INF161 Project - Part 2\n",
    "Notes about data:\n",
    "- Bruker\n",
    "    - Lots of NaN/None values\n",
    "    - Should change sexes to binary\n",
    "- Film\n",
    "    - Seems like duplicate indexes.\n",
    "    - Title contains release year\n",
    "    - Genres should be split to sepearate columns with a binary value\n",
    "- Rangering\n",
    "    - No column names, adding BrukerID::FilmID::Rangering::Tidstempel\n",
    "    - Must convert all ratings to the (0-5) scale\n",
    "    - Timestamp shuld be datetime format\n",
    "\n",
    "New features to dataset:\n",
    "- Extracted release year from title\n",
    "- TODO make binary value of timnestamp before and after dinner. I think users look at different content based on that factor."
   ],
   "metadata": {
    "collapsed": false,
    "pycharm": {
     "name": "#%% md\n"
    }
   }
  },
  {
   "cell_type": "code",
   "execution_count": 56,
   "outputs": [],
   "source": [
    "import datetime\n",
    "import json\n",
    "import re\n",
    "import numpy as np\n",
    "from io import StringIO\n",
    "import os\n",
    "import pandas as pd"
   ],
   "metadata": {
    "collapsed": false,
    "pycharm": {
     "name": "#%%\n"
    }
   }
  },
  {
   "cell_type": "code",
   "execution_count": 57,
   "outputs": [
    {
     "name": "stdout",
     "output_type": "stream",
     "text": [
      "      BrukerID Kjonn  Alder  Jobb    Postkode\n",
      "0            0  None   45.0   6.0       92103\n",
      "1            1     M   50.0  16.0  55405-2546\n",
      "2            2     M   18.0  20.0       44089\n",
      "3            3     M    NaN   1.0       33304\n",
      "4            4     M   35.0   6.0       48105\n",
      "...        ...   ...    ...   ...         ...\n",
      "6035      6036     M   45.0   0.0       61821\n",
      "6036      6037     F    NaN   NaN        None\n",
      "6037      6038  None   25.0  16.0       33301\n",
      "6038      6039     M   35.0  14.0       92075\n",
      "6039      6040     M   25.0   6.0       68131\n",
      "\n",
      "[6040 rows x 5 columns]\n"
     ]
    }
   ],
   "source": [
    "#BrukerDF\n",
    "bruker_df = pd.read_json(('raw_data/bruker.json'), orient='split')\n",
    "\n",
    "#print(bruker_df)"
   ],
   "metadata": {
    "collapsed": false,
    "pycharm": {
     "name": "#%%\n"
    }
   }
  },
  {
   "cell_type": "code",
   "execution_count": 58,
   "outputs": [],
   "source": [
    "#FilmDF\n",
    "film_df = pd.read_excel('raw_data/film.xlsx', sheet_name=\"film\", usecols=\"B:D\")\n",
    "\n",
    "# No duplicates\n",
    "#print(film_df[film_df.duplicated()])\n",
    "\n",
    "old_titles = film_df['Tittel'].to_numpy()\n",
    "new_titles = []\n",
    "year_realesed = []\n",
    "\n",
    "def hasNumbers(inputString):\n",
    "    return bool(re.search(r'\\d', inputString))\n",
    "\n",
    "for t in old_titles:\n",
    "    year_realesed.append(t[-6:][1:-1])\n",
    "    new_titles.append(t[:-7])\n",
    "\n",
    "film_df['Tittel']=new_titles\n",
    "film_df['Aar']=year_realesed\n",
    "film_df['Aar']=pd.to_datetime(film_df.Aar, format='%Y')\n",
    "\n",
    "#Split into binary genres\n",
    "columns = [\"FilmID\",\"Tittel\",\"Aar\",\"Action\",\"Adventure\",\"Animation\",\"Children's\",\"Comedy\",\"Crime\",\"Documentary\",\"Drama\",\"Fantasy\",\"Film-Noir\",\"Horror\",\"Musical\",\"Mystery\",\"Romance\",\"Sci-Fi\",\"Thriller\",\"War\",\"Western\"]\n",
    "\n",
    "old = film_df['Sjanger'].to_numpy()\n",
    "\n",
    "new = pd.DataFrame(index = range(0, len(film_df)),columns=columns).fillna(0)\n",
    "new['FilmID']=film_df['FilmID']\n",
    "new['Tittel']=film_df['Tittel']\n",
    "new['Aar']=film_df['Aar']\n",
    "\n",
    "for genre in columns[3:]:\n",
    "    res = film_df.loc[film_df.Sjanger.str.contains(genre)]\n",
    "    new.loc[film_df['FilmID'].isin(res['FilmID']), genre]=1\n",
    "\n",
    "\n",
    "film_df=new\n",
    "#print(film_df)"
   ],
   "metadata": {
    "collapsed": false,
    "pycharm": {
     "name": "#%%\n"
    }
   }
  },
  {
   "cell_type": "code",
   "execution_count": 59,
   "outputs": [],
   "source": [
    "#RangeringDF\n",
    "rangering_df = pd.read_csv('raw_data/rangering.dat', sep=\"::\", engine='python')\n",
    "# No duplicates\n",
    "#print(rangering_df[rangering_df.duplicated()])\n",
    "\n",
    "#For testing\n",
    "#rangering_df = rangering_df.head(10)"
   ],
   "metadata": {
    "collapsed": false,
    "pycharm": {
     "name": "#%%\n"
    }
   }
  },
  {
   "cell_type": "code",
   "execution_count": 60,
   "outputs": [],
   "source": [
    "rangering_df['Tidstempel'] = pd.to_datetime(rangering_df['Tidstempel'],unit='s')\n",
    "\n",
    "\n",
    "date = datetime.datetime(2000, 7, 31)\n",
    "def ten_to_five(datetime,rank):\n",
    "    if datetime < date:\n",
    "        return np.math.ceil(rank/2)\n",
    "    else:\n",
    "        return rank\n",
    "result = [ten_to_five(row[0],row[1]) for row in zip(rangering_df['Tidstempel'], rangering_df['Rangering'])]\n",
    "rangering_df['Rangering']=result\n",
    "#print(rangering_df)"
   ],
   "metadata": {
    "collapsed": false,
    "pycharm": {
     "name": "#%%\n"
    }
   }
  },
  {
   "cell_type": "code",
   "execution_count": 61,
   "outputs": [
    {
     "name": "stdout",
     "output_type": "stream",
     "text": [
      "Creation of the directory clean_data failed\n"
     ]
    }
   ],
   "source": [
    "# creating directory and placing files.\n",
    "\n",
    "path = 'clean_data'\n",
    "try:\n",
    "    os.mkdir(path)\n",
    "except OSError:\n",
    "    print (\"Creation of the directory %s failed\" % path)\n",
    "else:\n",
    "    print (\"Successfully created the directory %s \" % path)\n",
    "\n",
    "# Write to files\n",
    "bruker_df.to_csv(path+'/bruker.csv',index=False)\n",
    "film_df.to_csv(path+'/film.csv',index=False)\n",
    "rangering_df.to_csv(path+'/rangering.csv',index=False)"
   ],
   "metadata": {
    "collapsed": false,
    "pycharm": {
     "name": "#%%\n"
    }
   }
  }
 ],
 "metadata": {
  "kernelspec": {
   "display_name": "Python 3",
   "language": "python",
   "name": "python3"
  },
  "language_info": {
   "codemirror_mode": {
    "name": "ipython",
    "version": 2
   },
   "file_extension": ".py",
   "mimetype": "text/x-python",
   "name": "python",
   "nbconvert_exporter": "python",
   "pygments_lexer": "ipython2",
   "version": "2.7.6"
  }
 },
 "nbformat": 4,
 "nbformat_minor": 0
}