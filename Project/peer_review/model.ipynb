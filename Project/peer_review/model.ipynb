{
 "cells": [
  {
   "cell_type": "code",
   "execution_count": 3,
   "metadata": {},
   "outputs": [],
   "source": [
    "# imports\n",
    "import numpy as np\n",
    "import pandas as pd\n",
    "from scipy import stats\n",
    "from sklearn.model_selection import train_test_split\n",
    "from sklearn.linear_model import LogisticRegression, LinearRegression\n",
    "from sklearn.metrics import confusion_matrix\n",
    "from sklearn.metrics.pairwise import cosine_similarity\n",
    "from sklearn.metrics import mean_squared_error\n",
    "from sklearn.ensemble import RandomForestRegressor \n",
    "from sklearn.feature_extraction.text import TfidfVectorizer\n",
    "from sklearn.metrics.pairwise import linear_kernel\n",
    "import seaborn as sns\n",
    "import matplotlib.pyplot as plt\n",
    "import re"
   ]
  },
  {
   "cell_type": "code",
   "execution_count": 4,
   "metadata": {},
   "outputs": [],
   "source": [
    "#read data rangering.csv\n",
    "rangering_df=pd.read_csv('sample_data/rangering.csv')"
   ]
  },
  {
   "cell_type": "code",
   "execution_count": 5,
   "metadata": {},
   "outputs": [
    {
     "data": {
      "text/plain": "   BrukerID  FilmID  Rangering  Tidstempel\n0         0      88          3   959441640\n1         0     365          3   959442446\n2         0     150          5   959442486\n3         0     161          3   959442624\n4         0     323          4   959442669",
      "text/html": "<div>\n<style scoped>\n    .dataframe tbody tr th:only-of-type {\n        vertical-align: middle;\n    }\n\n    .dataframe tbody tr th {\n        vertical-align: top;\n    }\n\n    .dataframe thead th {\n        text-align: right;\n    }\n</style>\n<table border=\"1\" class=\"dataframe\">\n  <thead>\n    <tr style=\"text-align: right;\">\n      <th></th>\n      <th>BrukerID</th>\n      <th>FilmID</th>\n      <th>Rangering</th>\n      <th>Tidstempel</th>\n    </tr>\n  </thead>\n  <tbody>\n    <tr>\n      <th>0</th>\n      <td>0</td>\n      <td>88</td>\n      <td>3</td>\n      <td>959441640</td>\n    </tr>\n    <tr>\n      <th>1</th>\n      <td>0</td>\n      <td>365</td>\n      <td>3</td>\n      <td>959442446</td>\n    </tr>\n    <tr>\n      <th>2</th>\n      <td>0</td>\n      <td>150</td>\n      <td>5</td>\n      <td>959442486</td>\n    </tr>\n    <tr>\n      <th>3</th>\n      <td>0</td>\n      <td>161</td>\n      <td>3</td>\n      <td>959442624</td>\n    </tr>\n    <tr>\n      <th>4</th>\n      <td>0</td>\n      <td>323</td>\n      <td>4</td>\n      <td>959442669</td>\n    </tr>\n  </tbody>\n</table>\n</div>"
     },
     "execution_count": 5,
     "metadata": {},
     "output_type": "execute_result"
    }
   ],
   "source": [
    "#see table of data rangering.csv\n",
    "rangering_df.head()"
   ]
  },
  {
   "cell_type": "code",
   "execution_count": 6,
   "metadata": {},
   "outputs": [
    {
     "name": "stdout",
     "output_type": "stream",
     "text": [
      "The data contains 5791 lines\n"
     ]
    }
   ],
   "source": [
    "#calculate the total number of ratings\n",
    "print('The data contains', len(rangering_df), 'lines')"
   ]
  },
  {
   "cell_type": "code",
   "execution_count": 7,
   "metadata": {},
   "outputs": [],
   "source": [
    "#read data bruker.csv\n",
    "bruker_df=pd.read_csv('sample_data/bruker.csv')"
   ]
  },
  {
   "cell_type": "code",
   "execution_count": 8,
   "metadata": {},
   "outputs": [
    {
     "data": {
      "text/plain": "   BrukerID Kjonn  Alder  Jobb Postkode\n0         0     M     45     6    92103\n1         4     M     35     6    48105\n2         6     M     50    14    02651\n3         8     M     25     4    70806\n4         9     M     25    19    45701",
      "text/html": "<div>\n<style scoped>\n    .dataframe tbody tr th:only-of-type {\n        vertical-align: middle;\n    }\n\n    .dataframe tbody tr th {\n        vertical-align: top;\n    }\n\n    .dataframe thead th {\n        text-align: right;\n    }\n</style>\n<table border=\"1\" class=\"dataframe\">\n  <thead>\n    <tr style=\"text-align: right;\">\n      <th></th>\n      <th>BrukerID</th>\n      <th>Kjonn</th>\n      <th>Alder</th>\n      <th>Jobb</th>\n      <th>Postkode</th>\n    </tr>\n  </thead>\n  <tbody>\n    <tr>\n      <th>0</th>\n      <td>0</td>\n      <td>M</td>\n      <td>45</td>\n      <td>6</td>\n      <td>92103</td>\n    </tr>\n    <tr>\n      <th>1</th>\n      <td>4</td>\n      <td>M</td>\n      <td>35</td>\n      <td>6</td>\n      <td>48105</td>\n    </tr>\n    <tr>\n      <th>2</th>\n      <td>6</td>\n      <td>M</td>\n      <td>50</td>\n      <td>14</td>\n      <td>02651</td>\n    </tr>\n    <tr>\n      <th>3</th>\n      <td>8</td>\n      <td>M</td>\n      <td>25</td>\n      <td>4</td>\n      <td>70806</td>\n    </tr>\n    <tr>\n      <th>4</th>\n      <td>9</td>\n      <td>M</td>\n      <td>25</td>\n      <td>19</td>\n      <td>45701</td>\n    </tr>\n  </tbody>\n</table>\n</div>"
     },
     "execution_count": 8,
     "metadata": {},
     "output_type": "execute_result"
    }
   ],
   "source": [
    "#see table of data of the users\n",
    "bruker_df.head()"
   ]
  },
  {
   "cell_type": "code",
   "execution_count": 9,
   "metadata": {},
   "outputs": [
    {
     "name": "stdout",
     "output_type": "stream",
     "text": [
      "Mean age is: 30.8\n",
      "Median is: 25.0\n",
      "Mode is: ModeResult(mode=array([25]), count=array([71]))\n",
      "Variance is: 137.47000000000003\n"
     ]
    }
   ],
   "source": [
    "#overview of the ages of the users\n",
    "\n",
    "#mean ages\n",
    "a=bruker_df['Alder']\n",
    "mean=sum(a)/len(a)\n",
    "print ('Mean age is:', mean) #observe that for example the age 35 is in fact the interval of ages [35, 44]\n",
    "\n",
    "#median ages\n",
    "median=np.median(a)\n",
    "print('Median is:', median)\n",
    "\n",
    "#mode ages, returns the mode as well as the counts (25 years old is the mode, which appears 71 times)\n",
    "mode=stats.mode(a)\n",
    "print('Mode is:', mode)\n",
    "\n",
    "#variance ages\n",
    "variance=np.var(a)\n",
    "print('Variance is:', variance)"
   ]
  },
  {
   "cell_type": "code",
   "execution_count": 10,
   "metadata": {},
   "outputs": [
    {
     "name": "stdout",
     "output_type": "stream",
     "text": [
      "Total numer of users is: 200\n",
      "Number of women is: 52\n",
      "Percentage of women is: 26.0\n",
      "Number of men is: 148\n",
      "Percentage of men is: 74.0\n"
     ]
    }
   ],
   "source": [
    "#total number of users\n",
    "n=len(bruker_df)\n",
    "print('Total numer of users is:', n)\n",
    "\n",
    "#percentages of women and men\n",
    "g=bruker_df['Kjonn']\n",
    "\n",
    "l=[]\n",
    "for i in g:\n",
    "    if i=='F':\n",
    "        l.append('F') #add the female appearances 'F' to an empty list l\n",
    "        \n",
    "        f=len(l) #count the number of 'F'\n",
    "print('Number of women is:', f)\n",
    "\n",
    "Fpercent= (f/ n) * 100\n",
    "Mpercent=100-Fpercent\n",
    "\n",
    "print('Percentage of women is:', Fpercent)\n",
    "print('Number of men is:', n-f)\n",
    "print('Percentage of men is:', Mpercent)"
   ]
  },
  {
   "cell_type": "code",
   "execution_count": 11,
   "metadata": {},
   "outputs": [
    {
     "name": "stdout",
     "output_type": "stream",
     "text": [
      "Mode of the jobs is: ModeResult(mode=array([0]), count=array([24]))\n",
      "Mode of the womens jobs is: ModeResult(mode=array([4]), count=array([1]))\n",
      "Mode of the mens jobs is: ModeResult(mode=array([20]), count=array([1]))\n"
     ]
    }
   ],
   "source": [
    "#overview of the professions\n",
    "j=bruker_df['Jobb']\n",
    "\n",
    "#mode of the profession fields\n",
    "mode=stats.mode(j)\n",
    "print('Mode of the jobs is:', mode) #corresponds to the number 0 and appears 24 times, which is \"other/not specified\"\n",
    "\n",
    "#mode of the women's professions\n",
    "#fj=[bruker_df['Kjonn'], bruker_df['Jobb']]\n",
    "\n",
    "#positions of the women in bruker_df\n",
    "indices = [i for i, x in enumerate(bruker_df['Kjonn']) if x == \"F\"]\n",
    "\n",
    "#list of women's jobs\n",
    "for i in indices:\n",
    "    fj=bruker_df['Jobb'][i]\n",
    "#mode of the females jobs\n",
    "modefem=stats.mode(fj)\n",
    "print('Mode of the womens jobs is:', modefem) #which is number 4, corresponding to \"student\" (why count=array[1] here??)\n",
    "\n",
    "#positions of men in bruker_df\n",
    "indicesM=[i for i, x in enumerate(bruker_df['Kjonn']) if x == \"M\"]\n",
    "\n",
    "#list of men's jobs\n",
    "for i in indicesM:\n",
    "    fm=bruker_df['Jobb'][i]\n",
    "#mode of the females jobs\n",
    "modemas=stats.mode(fm)\n",
    "print('Mode of the mens jobs is:', modemas)  #position 20, 'forfatter', contradicts the total which is 'other'  (?????)"
   ]
  },
  {
   "cell_type": "code",
   "execution_count": 12,
   "metadata": {},
   "outputs": [],
   "source": [
    "#read data movies\n",
    "film_df=pd.read_csv('sample_data/film.csv')"
   ]
  },
  {
   "cell_type": "code",
   "execution_count": 13,
   "metadata": {},
   "outputs": [
    {
     "data": {
      "text/plain": "   FilmID                                    Tittel  Action  Adventure  \\\n0       0                 Autumn in New York (2000)       0          0   \n1       1  Vie est belle, La (Life is Rosey) (1987)       0          0   \n2       2                    Defying Gravity (1997)       0          0   \n3       3                    Ruthless People (1986)       0          0   \n4       4                  Portraits Chinois (1996)       0          0   \n\n   Animation  Children's  Comedy  Crime  Documentary  Drama  Fantasy  \\\n0          0           0       0      0            0      1        0   \n1          0           0       1      0            0      1        0   \n2          0           0       0      0            0      1        0   \n3          0           0       1      0            0      0        0   \n4          0           0       0      0            0      1        0   \n\n   Film-Noir  Horror  Musical  Mystery  Romance  Sci-Fi  Thriller  War  \\\n0          0       0        0        0        1       0         0    0   \n1          0       0        0        0        0       0         0    0   \n2          0       0        0        0        0       0         0    0   \n3          0       0        0        0        0       0         0    0   \n4          0       0        0        0        0       0         0    0   \n\n   Western  \n0        0  \n1        0  \n2        0  \n3        0  \n4        0  ",
      "text/html": "<div>\n<style scoped>\n    .dataframe tbody tr th:only-of-type {\n        vertical-align: middle;\n    }\n\n    .dataframe tbody tr th {\n        vertical-align: top;\n    }\n\n    .dataframe thead th {\n        text-align: right;\n    }\n</style>\n<table border=\"1\" class=\"dataframe\">\n  <thead>\n    <tr style=\"text-align: right;\">\n      <th></th>\n      <th>FilmID</th>\n      <th>Tittel</th>\n      <th>Action</th>\n      <th>Adventure</th>\n      <th>Animation</th>\n      <th>Children's</th>\n      <th>Comedy</th>\n      <th>Crime</th>\n      <th>Documentary</th>\n      <th>Drama</th>\n      <th>Fantasy</th>\n      <th>Film-Noir</th>\n      <th>Horror</th>\n      <th>Musical</th>\n      <th>Mystery</th>\n      <th>Romance</th>\n      <th>Sci-Fi</th>\n      <th>Thriller</th>\n      <th>War</th>\n      <th>Western</th>\n    </tr>\n  </thead>\n  <tbody>\n    <tr>\n      <th>0</th>\n      <td>0</td>\n      <td>Autumn in New York (2000)</td>\n      <td>0</td>\n      <td>0</td>\n      <td>0</td>\n      <td>0</td>\n      <td>0</td>\n      <td>0</td>\n      <td>0</td>\n      <td>1</td>\n      <td>0</td>\n      <td>0</td>\n      <td>0</td>\n      <td>0</td>\n      <td>0</td>\n      <td>1</td>\n      <td>0</td>\n      <td>0</td>\n      <td>0</td>\n      <td>0</td>\n    </tr>\n    <tr>\n      <th>1</th>\n      <td>1</td>\n      <td>Vie est belle, La (Life is Rosey) (1987)</td>\n      <td>0</td>\n      <td>0</td>\n      <td>0</td>\n      <td>0</td>\n      <td>1</td>\n      <td>0</td>\n      <td>0</td>\n      <td>1</td>\n      <td>0</td>\n      <td>0</td>\n      <td>0</td>\n      <td>0</td>\n      <td>0</td>\n      <td>0</td>\n      <td>0</td>\n      <td>0</td>\n      <td>0</td>\n      <td>0</td>\n    </tr>\n    <tr>\n      <th>2</th>\n      <td>2</td>\n      <td>Defying Gravity (1997)</td>\n      <td>0</td>\n      <td>0</td>\n      <td>0</td>\n      <td>0</td>\n      <td>0</td>\n      <td>0</td>\n      <td>0</td>\n      <td>1</td>\n      <td>0</td>\n      <td>0</td>\n      <td>0</td>\n      <td>0</td>\n      <td>0</td>\n      <td>0</td>\n      <td>0</td>\n      <td>0</td>\n      <td>0</td>\n      <td>0</td>\n    </tr>\n    <tr>\n      <th>3</th>\n      <td>3</td>\n      <td>Ruthless People (1986)</td>\n      <td>0</td>\n      <td>0</td>\n      <td>0</td>\n      <td>0</td>\n      <td>1</td>\n      <td>0</td>\n      <td>0</td>\n      <td>0</td>\n      <td>0</td>\n      <td>0</td>\n      <td>0</td>\n      <td>0</td>\n      <td>0</td>\n      <td>0</td>\n      <td>0</td>\n      <td>0</td>\n      <td>0</td>\n      <td>0</td>\n    </tr>\n    <tr>\n      <th>4</th>\n      <td>4</td>\n      <td>Portraits Chinois (1996)</td>\n      <td>0</td>\n      <td>0</td>\n      <td>0</td>\n      <td>0</td>\n      <td>0</td>\n      <td>0</td>\n      <td>0</td>\n      <td>1</td>\n      <td>0</td>\n      <td>0</td>\n      <td>0</td>\n      <td>0</td>\n      <td>0</td>\n      <td>0</td>\n      <td>0</td>\n      <td>0</td>\n      <td>0</td>\n      <td>0</td>\n    </tr>\n  </tbody>\n</table>\n</div>"
     },
     "execution_count": 13,
     "metadata": {},
     "output_type": "execute_result"
    }
   ],
   "source": [
    "#see table of data movies\n",
    "film_df.head()"
   ]
  },
  {
   "cell_type": "code",
   "execution_count": 14,
   "metadata": {},
   "outputs": [],
   "source": [
    "#the position of the movies in film_df are precisely their FilmIDs in rangering_df\n",
    "action=[]\n",
    "adventure=[]\n",
    "animation=[]\n",
    "children=[]\n",
    "comedy=[]\n",
    "crime=[]\n",
    "documentary=[]\n",
    "drama=[]\n",
    "fantasy=[]\n",
    "filmnoir=[]\n",
    "horror=[]\n",
    "musical=[]\n",
    "mystery=[]\n",
    "romance=[]\n",
    "sci=[]\n",
    "thriller=[]\n",
    "war=[]\n",
    "western=[]\n",
    "\n",
    "for (i,j) in enumerate((film_df['Action'])):\n",
    "    if j==1:\n",
    "       action.append(i)\n",
    "    \n",
    "for (i,j) in enumerate((film_df['Adventure'])):\n",
    "    if j==1:\n",
    "        adventure.append(i)\n",
    "\n",
    "\n",
    "for (i,j) in enumerate((film_df['Animation'])):\n",
    "    if j==1:\n",
    "        animation.append(i)\n",
    "        \n",
    "for (i,j) in enumerate((film_df['Children\\'s'])):\n",
    "    if j==1:\n",
    "       children.append(i)\n",
    "    \n",
    "for (i,j) in enumerate((film_df['Comedy'])):\n",
    "    if j==1:\n",
    "        comedy.append(i)\n",
    "\n",
    "for (i,j) in enumerate((film_df['Crime'])):\n",
    "    if j==1:\n",
    "        crime.append(i)\n",
    "    \n",
    "for (i,j) in enumerate((film_df['Documentary'])):\n",
    "    if j==1:\n",
    "        documentary.append(i)\n",
    "        \n",
    "for (i,j) in enumerate((film_df['Drama'])):\n",
    "    if j==1:\n",
    "        drama.append(i)\n",
    "\n",
    "\n",
    "for (i,j) in enumerate((film_df['Fantasy'])):\n",
    "    if j==1:\n",
    "        fantasy.append(i)\n",
    "\n",
    "\n",
    "for (i,j) in enumerate((film_df['Film-Noir'])):\n",
    "    if j==1:\n",
    "        filmnoir.append(i)\n",
    "\n",
    "\n",
    "for (i,j) in enumerate((film_df['Horror'])):\n",
    "    if j==1:\n",
    "        horror.append(i)\n",
    "\n",
    "\n",
    "for (i,j) in enumerate((film_df['Musical'])):\n",
    "    if j==1:\n",
    "        musical.append(i)\n",
    "\n",
    "\n",
    "for (i,j) in enumerate((film_df['Mystery'])):\n",
    "    if j==1:\n",
    "        mystery.append(i)\n",
    "\n",
    "\n",
    "for (i,j) in enumerate((film_df['Romance'])):\n",
    "    if j==1:\n",
    "        romance.append(i)\n",
    "\n",
    "\n",
    "for (i,j) in enumerate((film_df['Sci-Fi'])):\n",
    "    if j==1:\n",
    "        sci.append(i)\n",
    "\n",
    "\n",
    "for (i,j) in enumerate((film_df['Thriller'])):\n",
    "    if j==1:\n",
    "        thriller.append(i)\n",
    "\n",
    "for (i,j) in enumerate((film_df['War'])):\n",
    "    if j==1:\n",
    "        war.append(i)\n",
    "\n",
    "\n",
    "for (i,j) in enumerate((film_df['Western'])):\n",
    "    if j==1:\n",
    "        western.append(i)\n"
   ]
  },
  {
   "cell_type": "code",
   "execution_count": 15,
   "metadata": {
    "scrolled": true
   },
   "outputs": [
    {
     "name": "stdout",
     "output_type": "stream",
     "text": [
      "The total number of action movies is: 70\n",
      "The total number of adventure movies is: 42\n",
      "The total number of animation movies is: 18\n",
      "The total number of children's movies is: 36\n",
      "The total number of comedies is: 130\n",
      "The total number of crime movies is: 31\n",
      "The total number of documentary movies is: 18\n",
      "The total number of drama movies is: 208\n",
      "The total number of fantasy movies is: 9\n",
      "The total number of film-noir movies is: 8\n",
      "The total number of horror movies is: 44\n",
      "The total number of musical movies is: 21\n",
      "The total number of mystery movies is: 24\n",
      "The total number of romance movies is: 65\n",
      "The total number of Sci-Fi movies is: 41\n",
      "The total number of thriller movies is: 62\n",
      "The total number of war movies is: 13\n",
      "The total number of western movies is: 8\n"
     ]
    }
   ],
   "source": [
    "#number of movies per genre\n",
    "\n",
    "print ('The total number of action movies is:', len(action))\n",
    "print ('The total number of adventure movies is:', len(adventure))\n",
    "print ('The total number of animation movies is:', len(animation))\n",
    "print ('The total number of children\\'s movies is:', len(children))\n",
    "print ('The total number of comedies is:', len(comedy))\n",
    "print ('The total number of crime movies is:', len(crime))\n",
    "print ('The total number of documentary movies is:', len(documentary))\n",
    "print ('The total number of drama movies is:', len(drama))\n",
    "print ('The total number of fantasy movies is:', len(fantasy))\n",
    "print ('The total number of film-noir movies is:', len(filmnoir))\n",
    "print ('The total number of horror movies is:', len(horror))\n",
    "print ('The total number of musical movies is:', len(musical))\n",
    "print ('The total number of mystery movies is:', len(mystery))\n",
    "print ('The total number of romance movies is:', len(romance))\n",
    "print ('The total number of Sci-Fi movies is:', len(sci))\n",
    "print ('The total number of thriller movies is:', len(thriller))\n",
    "print ('The total number of war movies is:', len(war))\n",
    "print ('The total number of western movies is:', len(western))"
   ]
  },
  {
   "cell_type": "code",
   "execution_count": 16,
   "metadata": {},
   "outputs": [
    {
     "name": "stdout",
     "output_type": "stream",
     "text": [
      "The total number of movies is: 494\n"
     ]
    }
   ],
   "source": [
    "print(\"The total number of movies is:\", len(film_df))"
   ]
  },
  {
   "cell_type": "code",
   "execution_count": 17,
   "metadata": {},
   "outputs": [
    {
     "name": "stdout",
     "output_type": "stream",
     "text": [
      "The mean rating for genres is: [3.5009174311926605, 3.554561717352415, 3.5764705882352943, 3.4143302180685358, 3.4966124661246614, 3.7453310696095077, 3.5602836879432624, 3.536355475763016, 3.816326530612245, 3.8680555555555554, 3.609942638623327, 3.4357798165137616, 3.669811320754717, 3.4983660130718954, 3.480234260614934, 3.4783715012722647, 3.6724890829694323, 3.561797752808989]\n"
     ]
    }
   ],
   "source": [
    "#corresponding ratings to movies by genres\n",
    "\n",
    "r_action=[]\n",
    "r_adventure=[]\n",
    "r_animation=[]\n",
    "r_children=[]\n",
    "r_comedy=[]\n",
    "r_crime=[]\n",
    "r_documentary=[]\n",
    "r_drama=[]\n",
    "r_fantasy=[]\n",
    "r_filmnoir=[]\n",
    "r_horror=[]\n",
    "r_musical=[]\n",
    "r_mystery=[]\n",
    "r_romance=[]\n",
    "r_sci=[]\n",
    "r_thriller=[]\n",
    "r_war=[]\n",
    "r_western=[]\n",
    "\n",
    "means=[]\n",
    "\n",
    "for (i,j) in enumerate(rangering_df['FilmID']):\n",
    "    if j in action:\n",
    "        r_action.append(rangering_df['Rangering'][i])\n",
    "        \n",
    "mean_action=sum(r_action)/len(r_action)\n",
    "means.append(mean_action)\n",
    "        \n",
    "for (i,j) in enumerate(rangering_df['FilmID']):\n",
    "    if j in adventure:\n",
    "        r_adventure.append(rangering_df['Rangering'][i]) \n",
    "        \n",
    "mean_adventure=sum(r_adventure)/len(r_adventure)\n",
    "means.append(mean_adventure)        \n",
    "\n",
    "for (i,j) in enumerate(rangering_df['FilmID']):\n",
    "    if j in animation:\n",
    "        r_animation.append(rangering_df['Rangering'][i])\n",
    "        \n",
    "mean_animation=sum(r_animation)/len(r_animation)\n",
    "means.append(mean_animation)\n",
    "\n",
    "for (i,j) in enumerate(rangering_df['FilmID']):\n",
    "    if j in children:\n",
    "        r_children.append(rangering_df['Rangering'][i])\n",
    "        \n",
    "mean_children=sum(r_children)/len(r_children)\n",
    "means.append(mean_children)\n",
    "\n",
    "for (i,j) in enumerate(rangering_df['FilmID']):\n",
    "    if j in comedy:\n",
    "        r_comedy.append(rangering_df['Rangering'][i])\n",
    "        \n",
    "mean_comedy=sum(r_comedy)/len(r_comedy)\n",
    "means.append(mean_comedy)\n",
    "\n",
    "for (i,j) in enumerate(rangering_df['FilmID']):\n",
    "    if j in crime:\n",
    "        r_crime.append(rangering_df['Rangering'][i])\n",
    "        \n",
    "mean_crime=sum(r_crime)/len(r_crime)\n",
    "means.append(mean_crime)\n",
    "\n",
    "for (i,j) in enumerate(rangering_df['FilmID']):\n",
    "    if j in documentary:\n",
    "        r_documentary.append(rangering_df['Rangering'][i])\n",
    "        \n",
    "mean_documentary=sum(r_documentary)/len(r_documentary)\n",
    "means.append(mean_documentary)\n",
    "\n",
    "for (i,j) in enumerate(rangering_df['FilmID']):\n",
    "    if j in drama:\n",
    "        r_drama.append(rangering_df['Rangering'][i])\n",
    "        \n",
    "mean_drama=sum(r_drama)/len(r_drama)\n",
    "means.append(mean_drama)\n",
    "\n",
    "for (i,j) in enumerate(rangering_df['FilmID']):\n",
    "    if j in fantasy:\n",
    "        r_fantasy.append(rangering_df['Rangering'][i])\n",
    "        \n",
    "mean_fantasy=sum(r_fantasy)/len(r_fantasy)\n",
    "means.append(mean_fantasy)\n",
    "\n",
    "for (i,j) in enumerate(rangering_df['FilmID']):\n",
    "    if j in filmnoir:\n",
    "        r_filmnoir.append(rangering_df['Rangering'][i])\n",
    "        \n",
    "mean_filmnoir=sum(r_filmnoir)/len(r_filmnoir)\n",
    "means.append(mean_filmnoir)\n",
    "\n",
    "for (i,j) in enumerate(rangering_df['FilmID']):\n",
    "    if j in horror:\n",
    "        r_horror.append(rangering_df['Rangering'][i])\n",
    "        \n",
    "mean_horror=sum(r_horror)/len(r_horror)\n",
    "means.append(mean_horror)\n",
    "\n",
    "for (i,j) in enumerate(rangering_df['FilmID']):\n",
    "    if j in musical:\n",
    "        r_musical.append(rangering_df['Rangering'][i])\n",
    "        \n",
    "mean_musical=sum(r_musical)/len(r_musical)\n",
    "means.append(mean_musical)\n",
    "\n",
    "for (i,j) in enumerate(rangering_df['FilmID']):\n",
    "    if j in mystery:\n",
    "        r_mystery.append(rangering_df['Rangering'][i])\n",
    "        \n",
    "mean_mystery=sum(r_mystery)/len(r_mystery)\n",
    "means.append(mean_mystery)\n",
    "\n",
    "for (i,j) in enumerate(rangering_df['FilmID']):\n",
    "    if j in romance:\n",
    "        r_romance.append(rangering_df['Rangering'][i])\n",
    "        \n",
    "mean_romance=sum(r_romance)/len(r_romance)\n",
    "means.append(mean_romance)\n",
    "\n",
    "for (i,j) in enumerate(rangering_df['FilmID']):\n",
    "    if j in sci:\n",
    "        r_sci.append(rangering_df['Rangering'][i])\n",
    "        \n",
    "mean_sci=sum(r_sci)/len(r_sci)\n",
    "means.append(mean_sci)\n",
    "\n",
    "for (i,j) in enumerate(rangering_df['FilmID']):\n",
    "    if j in thriller:\n",
    "        r_thriller.append(rangering_df['Rangering'][i])\n",
    "        \n",
    "mean_thriller=sum(r_thriller)/len(r_thriller)\n",
    "means.append(mean_thriller)\n",
    "\n",
    "for (i,j) in enumerate(rangering_df['FilmID']):\n",
    "    if j in war:\n",
    "        r_war.append(rangering_df['Rangering'][i])\n",
    "        \n",
    "mean_war=sum(r_war)/len(r_war)\n",
    "means.append(mean_war)\n",
    "\n",
    "for (i,j) in enumerate(rangering_df['FilmID']):\n",
    "    if j in western:\n",
    "        r_western.append(rangering_df['Rangering'][i])\n",
    "        \n",
    "mean_western=sum(r_western)/len(r_western)\n",
    "means.append(mean_western)\n",
    "\n",
    "print('The mean rating for genres is:', means) "
   ]
  },
  {
   "cell_type": "code",
   "execution_count": 18,
   "metadata": {},
   "outputs": [
    {
     "data": {
      "text/plain": "<Figure size 1296x360 with 1 Axes>",
      "image/png": "[encoded data removed]"
     },
     "metadata": {
      "needs_background": "light"
     },
     "output_type": "display_data"
    }
   ],
   "source": [
    "genres=['Action', 'Adventure', 'Animation', 'Children\\'s', 'Comedy', 'Crime', 'Documentary', 'Drama', 'Fantasy', 'Film-Noir', 'Horror', 'Musical', 'Mystery', 'Romance', 'Sci-Fi', 'Thriller', 'War', 'Western']\n",
    "\n",
    "\n",
    "plt.figure(figsize=(18,5))\n",
    "\n",
    "# Add title\n",
    "plt.title(\"Average rating of movies by genres\")\n",
    "\n",
    "# Bar chart of the averages of rankings of movies by genres, from 0 to 5 stars\n",
    "sns.barplot(x=genres, y=means)\n",
    "plt.ylim(0, 5)\n",
    "\n",
    "# Add label for vertical axis\n",
    "plt.ylabel('Stars')\n",
    "\n",
    "plt.show()"
   ]
  },
  {
   "cell_type": "code",
   "execution_count": 19,
   "metadata": {},
   "outputs": [
    {
     "data": {
      "text/plain": "      BrukerID  FilmID  Rangering  Tidstempel\n2444       139     150          5   965242634\n1026        58     454          5   965352914\n1024        58     484          5   965352718\n1023        58     176          5   965352718\n4409       280      30          5   960010596",
      "text/html": "<div>\n<style scoped>\n    .dataframe tbody tr th:only-of-type {\n        vertical-align: middle;\n    }\n\n    .dataframe tbody tr th {\n        vertical-align: top;\n    }\n\n    .dataframe thead th {\n        text-align: right;\n    }\n</style>\n<table border=\"1\" class=\"dataframe\">\n  <thead>\n    <tr style=\"text-align: right;\">\n      <th></th>\n      <th>BrukerID</th>\n      <th>FilmID</th>\n      <th>Rangering</th>\n      <th>Tidstempel</th>\n    </tr>\n  </thead>\n  <tbody>\n    <tr>\n      <th>2444</th>\n      <td>139</td>\n      <td>150</td>\n      <td>5</td>\n      <td>965242634</td>\n    </tr>\n    <tr>\n      <th>1026</th>\n      <td>58</td>\n      <td>454</td>\n      <td>5</td>\n      <td>965352914</td>\n    </tr>\n    <tr>\n      <th>1024</th>\n      <td>58</td>\n      <td>484</td>\n      <td>5</td>\n      <td>965352718</td>\n    </tr>\n    <tr>\n      <th>1023</th>\n      <td>58</td>\n      <td>176</td>\n      <td>5</td>\n      <td>965352718</td>\n    </tr>\n    <tr>\n      <th>4409</th>\n      <td>280</td>\n      <td>30</td>\n      <td>5</td>\n      <td>960010596</td>\n    </tr>\n  </tbody>\n</table>\n</div>"
     },
     "execution_count": 19,
     "metadata": {},
     "output_type": "execute_result"
    }
   ],
   "source": [
    "#data rangering_df ordered by highest ranking\n",
    "\n",
    "top_movies = rangering_df.sort_values('Rangering', ascending=False)\n",
    "top_movies.head()\n"
   ]
  },
  {
   "cell_type": "code",
   "execution_count": 20,
   "metadata": {},
   "outputs": [
    {
     "data": {
      "text/plain": "    BrukerID  FilmID  Rangering  Tidstempel\n2          0     150          5   959442486\n17         0     367          5   959443403\n18         0     283          5   959443477\n21         0     325          5   959443684\n22         0     494          5   959443709",
      "text/html": "<div>\n<style scoped>\n    .dataframe tbody tr th:only-of-type {\n        vertical-align: middle;\n    }\n\n    .dataframe tbody tr th {\n        vertical-align: top;\n    }\n\n    .dataframe thead th {\n        text-align: right;\n    }\n</style>\n<table border=\"1\" class=\"dataframe\">\n  <thead>\n    <tr style=\"text-align: right;\">\n      <th></th>\n      <th>BrukerID</th>\n      <th>FilmID</th>\n      <th>Rangering</th>\n      <th>Tidstempel</th>\n    </tr>\n  </thead>\n  <tbody>\n    <tr>\n      <th>2</th>\n      <td>0</td>\n      <td>150</td>\n      <td>5</td>\n      <td>959442486</td>\n    </tr>\n    <tr>\n      <th>17</th>\n      <td>0</td>\n      <td>367</td>\n      <td>5</td>\n      <td>959443403</td>\n    </tr>\n    <tr>\n      <th>18</th>\n      <td>0</td>\n      <td>283</td>\n      <td>5</td>\n      <td>959443477</td>\n    </tr>\n    <tr>\n      <th>21</th>\n      <td>0</td>\n      <td>325</td>\n      <td>5</td>\n      <td>959443684</td>\n    </tr>\n    <tr>\n      <th>22</th>\n      <td>0</td>\n      <td>494</td>\n      <td>5</td>\n      <td>959443709</td>\n    </tr>\n  </tbody>\n</table>\n</div>"
     },
     "execution_count": 20,
     "metadata": {},
     "output_type": "execute_result"
    }
   ],
   "source": [
    "#lines with top ratings (5 stars)\n",
    "top_rankings=rangering_df[(rangering_df['Rangering'] ==5)]\n",
    "top_rankings.head()"
   ]
  },
  {
   "cell_type": "code",
   "execution_count": 21,
   "metadata": {},
   "outputs": [
    {
     "data": {
      "text/plain": "408    51\n150    40\n135    27\n424    25\n365    24\n       ..\n349     1\n345     1\n116     1\n327     1\n262     1\nName: FilmID, Length: 229, dtype: int64"
     },
     "execution_count": 21,
     "metadata": {},
     "output_type": "execute_result"
    }
   ],
   "source": [
    "#FilmsID with top ratings \n",
    "movies_toprankings=top_rankings['FilmID']\n",
    "movies_toprankings.head()\n",
    "\n",
    "#first column are the filmIDs and second column how many times have been rated, all these movies had 5 stars\n",
    "top_rankings['FilmID'].value_counts()\n"
   ]
  },
  {
   "cell_type": "code",
   "execution_count": 22,
   "metadata": {},
   "outputs": [
    {
     "name": "stdout",
     "output_type": "stream",
     "text": [
      "Autumn in New York (2000)\n",
      "Vie est belle, La (Life is Rosey) (1987)\n",
      "Defying Gravity (1997)\n",
      "Ruthless People (1986)\n",
      "Portraits Chinois (1996)\n",
      "Defending Your Life (1991)\n",
      "Omega Code, The (1999)\n",
      "Hard 8 (a.k.a. Sydney, a.k.a. Hard Eight) (1996)\n",
      "Mad City (1997)\n",
      "National Lampoon's Senior Trip (1995)\n"
     ]
    }
   ],
   "source": [
    "#get titles of top rated movies (not sure if it is okay , I get same order as in film_df)\n",
    "o=top_rankings['FilmID'].value_counts()\n",
    "for (i,j) in enumerate(o):\n",
    "    if j>20:\n",
    "        print(film_df['Tittel'][i])\n",
    "        \n",
    "#This can be a baseline recommender model, without personalizing the predictions, so that every user gets these same ones."
   ]
  },
  {
   "cell_type": "code",
   "execution_count": 23,
   "metadata": {
    "scrolled": false
   },
   "outputs": [
    {
     "data": {
      "text/plain": "<Figure size 1440x504 with 1 Axes>",
      "image/png": "[encoded data removed]"
     },
     "metadata": {
      "needs_background": "light"
     },
     "output_type": "display_data"
    }
   ],
   "source": [
    "#visualization of top movies if they have been rated at least 25 times with 5 stars\n",
    "plt.figure(figsize=(20,7))\n",
    "\n",
    "o=top_rankings['FilmID'].value_counts()\n",
    "vis_top=[]\n",
    "titles_top=[]\n",
    "for (i,j)in enumerate(o):\n",
    "    if j>=25:\n",
    "        vis_top.append(j)\n",
    "        titles_top.append(film_df['Tittel'][i])\n",
    "    \n",
    "# Add title\n",
    "plt.title(\"Most popular movies\")\n",
    "\n",
    "sns.barplot(x=titles_top, y=vis_top)\n",
    "\n",
    "# Add label for vertical axis\n",
    "plt.ylabel('Number of times rated with 5 stars')\n",
    "\n",
    "plt.show()"
   ]
  },
  {
   "cell_type": "code",
   "execution_count": 24,
   "metadata": {},
   "outputs": [
    {
     "data": {
      "text/plain": "         Rangering                                                      \\\ngenre       Action Adventure Animation    Comedy     Crime Documentary   \nBrukerID                                                                 \n0         3.400000  3.222222  3.571429  3.090909  4.000000         NaN   \n4         3.428571  3.500000       NaN  4.000000  4.000000         NaN   \n6         4.400000  5.000000       NaN  2.333333       NaN         NaN   \n8         4.000000  4.000000  4.000000  3.500000  4.500000         NaN   \n9         3.160000  3.700000  3.000000  3.615385  3.333333         3.0   \n\n                                                                            \\\ngenre        Drama Fantasy Film-Noir    Horror   Musical Mystery   Romance   \nBrukerID                                                                     \n0         3.700000     3.5       5.0  3.000000  3.000000     4.0  3.368421   \n4         4.125000     NaN       4.0  4.750000       NaN     4.0  3.500000   \n6         4.000000     5.0       NaN  2.000000  1.000000     NaN  4.000000   \n8         3.888889     4.0       5.0  5.000000  4.000000     5.0  3.666667   \n9         3.666667     3.0       3.0  3.333333  1.666667     4.0  3.857143   \n\n                                           \ngenre       Sci-Fi  Thriller  War Western  \nBrukerID                                   \n0         3.533333  3.666667  NaN     3.0  \n4         3.666667  4.125000  5.0     2.0  \n6         4.250000  3.666667  NaN     4.0  \n8              NaN  4.000000  NaN     NaN  \n9         2.166667  3.500000  NaN     2.0  ",
      "text/html": "<div>\n<style scoped>\n    .dataframe tbody tr th:only-of-type {\n        vertical-align: middle;\n    }\n\n    .dataframe tbody tr th {\n        vertical-align: top;\n    }\n\n    .dataframe thead tr th {\n        text-align: left;\n    }\n\n    .dataframe thead tr:last-of-type th {\n        text-align: right;\n    }\n</style>\n<table border=\"1\" class=\"dataframe\">\n  <thead>\n    <tr>\n      <th></th>\n      <th colspan=\"17\" halign=\"left\">Rangering</th>\n    </tr>\n    <tr>\n      <th>genre</th>\n      <th>Action</th>\n      <th>Adventure</th>\n      <th>Animation</th>\n      <th>Comedy</th>\n      <th>Crime</th>\n      <th>Documentary</th>\n      <th>Drama</th>\n      <th>Fantasy</th>\n      <th>Film-Noir</th>\n      <th>Horror</th>\n      <th>Musical</th>\n      <th>Mystery</th>\n      <th>Romance</th>\n      <th>Sci-Fi</th>\n      <th>Thriller</th>\n      <th>War</th>\n      <th>Western</th>\n    </tr>\n    <tr>\n      <th>BrukerID</th>\n      <th></th>\n      <th></th>\n      <th></th>\n      <th></th>\n      <th></th>\n      <th></th>\n      <th></th>\n      <th></th>\n      <th></th>\n      <th></th>\n      <th></th>\n      <th></th>\n      <th></th>\n      <th></th>\n      <th></th>\n      <th></th>\n      <th></th>\n    </tr>\n  </thead>\n  <tbody>\n    <tr>\n      <th>0</th>\n      <td>3.400000</td>\n      <td>3.222222</td>\n      <td>3.571429</td>\n      <td>3.090909</td>\n      <td>4.000000</td>\n      <td>NaN</td>\n      <td>3.700000</td>\n      <td>3.5</td>\n      <td>5.0</td>\n      <td>3.000000</td>\n      <td>3.000000</td>\n      <td>4.0</td>\n      <td>3.368421</td>\n      <td>3.533333</td>\n      <td>3.666667</td>\n      <td>NaN</td>\n      <td>3.0</td>\n    </tr>\n    <tr>\n      <th>4</th>\n      <td>3.428571</td>\n      <td>3.500000</td>\n      <td>NaN</td>\n      <td>4.000000</td>\n      <td>4.000000</td>\n      <td>NaN</td>\n      <td>4.125000</td>\n      <td>NaN</td>\n      <td>4.0</td>\n      <td>4.750000</td>\n      <td>NaN</td>\n      <td>4.0</td>\n      <td>3.500000</td>\n      <td>3.666667</td>\n      <td>4.125000</td>\n      <td>5.0</td>\n      <td>2.0</td>\n    </tr>\n    <tr>\n      <th>6</th>\n      <td>4.400000</td>\n      <td>5.000000</td>\n      <td>NaN</td>\n      <td>2.333333</td>\n      <td>NaN</td>\n      <td>NaN</td>\n      <td>4.000000</td>\n      <td>5.0</td>\n      <td>NaN</td>\n      <td>2.000000</td>\n      <td>1.000000</td>\n      <td>NaN</td>\n      <td>4.000000</td>\n      <td>4.250000</td>\n      <td>3.666667</td>\n      <td>NaN</td>\n      <td>4.0</td>\n    </tr>\n    <tr>\n      <th>8</th>\n      <td>4.000000</td>\n      <td>4.000000</td>\n      <td>4.000000</td>\n      <td>3.500000</td>\n      <td>4.500000</td>\n      <td>NaN</td>\n      <td>3.888889</td>\n      <td>4.0</td>\n      <td>5.0</td>\n      <td>5.000000</td>\n      <td>4.000000</td>\n      <td>5.0</td>\n      <td>3.666667</td>\n      <td>NaN</td>\n      <td>4.000000</td>\n      <td>NaN</td>\n      <td>NaN</td>\n    </tr>\n    <tr>\n      <th>9</th>\n      <td>3.160000</td>\n      <td>3.700000</td>\n      <td>3.000000</td>\n      <td>3.615385</td>\n      <td>3.333333</td>\n      <td>3.0</td>\n      <td>3.666667</td>\n      <td>3.0</td>\n      <td>3.0</td>\n      <td>3.333333</td>\n      <td>1.666667</td>\n      <td>4.0</td>\n      <td>3.857143</td>\n      <td>2.166667</td>\n      <td>3.500000</td>\n      <td>NaN</td>\n      <td>2.0</td>\n    </tr>\n  </tbody>\n</table>\n</div>"
     },
     "execution_count": 24,
     "metadata": {},
     "output_type": "execute_result"
    }
   ],
   "source": [
    "#Calculate the average/mean rating per genre for each user.\n",
    "\n",
    "merge=pd.merge(rangering_df, film_df)\n",
    "\n",
    "genres = ['Action', 'Adventure', 'Animation', 'Comedy', 'Crime', 'Documentary','Drama', 'Fantasy', 'Film-Noir', 'Horror', 'Musical', 'Mystery', 'Romance', 'Sci-Fi', 'Thriller', 'War', 'Western']\n",
    "   \n",
    "mdf = pd.melt(merge[['BrukerID', 'Rangering']+genres], \n",
    "              id_vars=['BrukerID', 'Rangering'], var_name='genre')\n",
    "\n",
    "#group movies into genres if they have value 1\n",
    "mdf = mdf[mdf['value']==1][['BrukerID', 'Rangering', 'genre']]\n",
    "\n",
    "#means \n",
    "means_gender_df = pd.pivot_table(mdf, columns = ['genre'], index = ['BrukerID'], \n",
    "                    values = ['Rangering'], aggfunc = np.mean)\n",
    "\n",
    "means_gender_df.head()"
   ]
  },
  {
   "cell_type": "code",
   "execution_count": 25,
   "metadata": {
    "scrolled": true
   },
   "outputs": [
    {
     "data": {
      "text/plain": "FilmID\n35     5.0\n443    5.0\n449    5.0\n444    5.0\n227    5.0\nName: Rangering, dtype: float64"
     },
     "execution_count": 25,
     "metadata": {},
     "output_type": "execute_result"
    }
   ],
   "source": [
    "#ordered mean ratings for each movie\n",
    "\n",
    "ordmeans=rangering_df.groupby('FilmID')['Rangering'].mean().sort_values(ascending=False)\n",
    "ordmeans.head()\n",
    "\n",
    "#output is a first column with FilmIDs and a second column with the mean rating"
   ]
  },
  {
   "cell_type": "code",
   "execution_count": 26,
   "metadata": {
    "scrolled": true
   },
   "outputs": [
    {
     "data": {
      "text/plain": "FilmID\n408    110\n295     94\n150     84\n424     83\n365     74\nName: Rangering, dtype: int64"
     },
     "execution_count": 26,
     "metadata": {},
     "output_type": "execute_result"
    }
   ],
   "source": [
    "#total number of times each movie has been rated\n",
    "totalrat=rangering_df.groupby('FilmID')['Rangering'].count().sort_values(ascending=False)\n",
    "totalrat.head()\n",
    "#output is a first column with the FilmIDs and a second column with the number of times it has been rated"
   ]
  },
  {
   "cell_type": "code",
   "execution_count": 27,
   "metadata": {},
   "outputs": [
    {
     "data": {
      "text/plain": "        Rangering  number of votes\nFilmID                            \n0        3.200000                5\n3        3.333333               27\n5        3.411765               17\n6        2.200000                5\n7        3.600000                5",
      "text/html": "<div>\n<style scoped>\n    .dataframe tbody tr th:only-of-type {\n        vertical-align: middle;\n    }\n\n    .dataframe tbody tr th {\n        vertical-align: top;\n    }\n\n    .dataframe thead th {\n        text-align: right;\n    }\n</style>\n<table border=\"1\" class=\"dataframe\">\n  <thead>\n    <tr style=\"text-align: right;\">\n      <th></th>\n      <th>Rangering</th>\n      <th>number of votes</th>\n    </tr>\n    <tr>\n      <th>FilmID</th>\n      <th></th>\n      <th></th>\n    </tr>\n  </thead>\n  <tbody>\n    <tr>\n      <th>0</th>\n      <td>3.200000</td>\n      <td>5</td>\n    </tr>\n    <tr>\n      <th>3</th>\n      <td>3.333333</td>\n      <td>27</td>\n    </tr>\n    <tr>\n      <th>5</th>\n      <td>3.411765</td>\n      <td>17</td>\n    </tr>\n    <tr>\n      <th>6</th>\n      <td>2.200000</td>\n      <td>5</td>\n    </tr>\n    <tr>\n      <th>7</th>\n      <td>3.600000</td>\n      <td>5</td>\n    </tr>\n  </tbody>\n</table>\n</div>"
     },
     "execution_count": 27,
     "metadata": {},
     "output_type": "execute_result"
    }
   ],
   "source": [
    "#movies with high rating but also with a high number of people rating them\n",
    "rangpop=pd.DataFrame(rangering_df.groupby('FilmID')['Rangering'].mean())\n",
    "rangpop['number of votes'] = pd.DataFrame(rangering_df.groupby('FilmID')['Rangering'].count())\n",
    "rangpop.head()"
   ]
  },
  {
   "cell_type": "code",
   "execution_count": 28,
   "metadata": {},
   "outputs": [
    {
     "name": "stdout",
     "output_type": "stream",
     "text": [
      "Recommended movie ID: 135 with average rating: 4.478260869565218\n",
      "Recommended movie ID: 30 with average rating: 4.384615384615385\n",
      "Recommended movie ID: 396 with average rating: 4.333333333333333\n",
      "Recommended movie ID: 179 with average rating: 4.277777777777778\n",
      "Recommended movie ID: 316 with average rating: 4.229166666666667\n",
      "Recommended movie ID: 308 with average rating: 4.173913043478261\n",
      "Recommended movie ID: 438 with average rating: 4.153846153846154\n",
      "Recommended movie ID: 164 with average rating: 4.08\n",
      "Recommended movie ID: 133 with average rating: 4.026315789473684\n",
      "Recommended movie ID: 415 with average rating: 4.025\n",
      "Recommended movie ID: 367 with average rating: 4.0\n"
     ]
    }
   ],
   "source": [
    "#Baseline (unpersonalized) recommender model, the same movies are recommended to everyone if they got an average rating of at least 4 and were voted at least 20 times\n",
    "\n",
    "#FilmIDs of the most rated movies\n",
    "indexes=totalrat.index\n",
    "\n",
    "#Film IDs of the ones rated at least by 20 users\n",
    "goodindexes=[]\n",
    "for i in totalrat:\n",
    "    if i>=20:\n",
    "        goodindexes.append(indexes[i])\n",
    "\n",
    "#FilmIDs together with their ratings if they have been rated at least by 20 users and got an avarage of at least 4 stars\n",
    "recommended_movies_ID=[]\n",
    "recommended_movies_ratings=[]\n",
    "for i in ordmeans.index:\n",
    "    if i in goodindexes:\n",
    "        if ordmeans[i]>=4:\n",
    "            recommended_movies_ID.append(i)\n",
    "            recommended_movies_ratings.append(ordmeans[i])\n",
    "            print('Recommended movie ID:', i, 'with average rating:', ordmeans[i])       \n",
    "        \n",
    "        \n"
   ]
  },
  {
   "cell_type": "code",
   "execution_count": 29,
   "metadata": {},
   "outputs": [
    {
     "name": "stdout",
     "output_type": "stream",
     "text": [
      "The recommended movies are:\n",
      "Two Thousand Maniacs! (1964)\n",
      "Wrong Trousers, The (1993)\n",
      "Lethal Weapon 2 (1989)\n",
      "Nineteen Eighty-Four (1984)\n",
      "Hard Target (1993)\n",
      "To Sir with Love (1967)\n",
      "Mole People, The (1956)\n",
      "Happiness Is in the Field (1995)\n",
      "Maltese Falcon, The (1941)\n",
      "Man Who Would Be King, The (1975)\n",
      "Best Laid Plans (1999)\n"
     ]
    }
   ],
   "source": [
    "#Result of the baseline model: titles of the recommended movies, which are movies rated at least by 20 users with an average of at least 4 stars.\n",
    "print('The recommended movies are:')\n",
    "for i in recommended_movies_ID:\n",
    "    print(film_df['Tittel'][i])"
   ]
  },
  {
   "cell_type": "code",
   "execution_count": 30,
   "metadata": {},
   "outputs": [
    {
     "data": {
      "text/plain": "                                     Tittel\n0                 Autumn in New York (2000)\n1  Vie est belle, La (Life is Rosey) (1987)\n2                    Defying Gravity (1997)\n3                    Ruthless People (1986)\n4                  Portraits Chinois (1996)",
      "text/html": "<div>\n<style scoped>\n    .dataframe tbody tr th:only-of-type {\n        vertical-align: middle;\n    }\n\n    .dataframe tbody tr th {\n        vertical-align: top;\n    }\n\n    .dataframe thead th {\n        text-align: right;\n    }\n</style>\n<table border=\"1\" class=\"dataframe\">\n  <thead>\n    <tr style=\"text-align: right;\">\n      <th></th>\n      <th>Tittel</th>\n    </tr>\n  </thead>\n  <tbody>\n    <tr>\n      <th>0</th>\n      <td>Autumn in New York (2000)</td>\n    </tr>\n    <tr>\n      <th>1</th>\n      <td>Vie est belle, La (Life is Rosey) (1987)</td>\n    </tr>\n    <tr>\n      <th>2</th>\n      <td>Defying Gravity (1997)</td>\n    </tr>\n    <tr>\n      <th>3</th>\n      <td>Ruthless People (1986)</td>\n    </tr>\n    <tr>\n      <th>4</th>\n      <td>Portraits Chinois (1996)</td>\n    </tr>\n  </tbody>\n</table>\n</div>"
     },
     "execution_count": 30,
     "metadata": {},
     "output_type": "execute_result"
    }
   ],
   "source": [
    "#Films IDs together with their titles\n",
    "film_id_df=film_df.loc[:,['Tittel']].dropna()\n",
    "film_id_df.head()"
   ]
  },
  {
   "cell_type": "code",
   "execution_count": 31,
   "metadata": {},
   "outputs": [],
   "source": [
    "#Model:\n",
    "\n",
    "merge_df=pd.merge(film_df, rangering_df)\n",
    "reduced_df=merge_df.loc[:, ['BrukerID', 'FilmID', 'Rangering', 'Action', 'Adventure', 'Animation', 'Children\\'s', 'Comedy', 'Crime', 'Documentary', 'Drama', 'Fantasy', 'Film-Noir', 'Horror', 'Musical', 'Mystery', 'Romance', 'Sci-Fi', 'Thriller', 'War', 'Western']].dropna()\n",
    "\n",
    "#independent variable X consisting of the profiles of the movies, X=(X1,...,Xn) for n movies/FilmIDs\n",
    "#dependent variable Y consisting of the rankings of the movies\n",
    "X=pd.get_dummies(reduced_df.loc[:,['FilmID', 'Action', 'Adventure', 'Animation', 'Children\\'s', 'Comedy', 'Crime', 'Documentary', 'Drama', 'Fantasy', 'Film-Noir', 'Horror', 'Musical', 'Mystery', 'Romance', 'Sci-Fi', 'Thriller', 'War', 'Western'] ]).values\n",
    "y=reduced_df['Rangering'].values\n",
    "\n",
    "#separation of data\n",
    "#train_size is the proportion of dataset to be included in the train split (70%)\n",
    "#test_size the proportion in the test split (15%)\n",
    "#I do not specify random_state in train_test_split so that it performs a random split of the data by default.\n",
    "\n",
    "X_train, X_valtest, y_train, y_valtest = train_test_split(X, y, train_size=0.7)\n",
    "X_val, X_test, y_val, y_test=train_test_split(X_valtest, y_valtest, test_size=0.15)"
   ]
  },
  {
   "cell_type": "code",
   "execution_count": 32,
   "metadata": {},
   "outputs": [
    {
     "data": {
      "text/plain": "LogisticRegression(penalty='none', solver='newton-cg')"
     },
     "execution_count": 32,
     "metadata": {},
     "output_type": "execute_result"
    }
   ],
   "source": [
    "#Content-based model using a logistic regression\n",
    "logreg=LogisticRegression(penalty='none', solver='newton-cg')\n",
    "\n",
    "#train the model\n",
    "logreg.fit(X_train, y_train)"
   ]
  },
  {
   "cell_type": "code",
   "execution_count": 33,
   "metadata": {},
   "outputs": [],
   "source": [
    "#validation step\n",
    "y_pred=logreg.predict(X_val)"
   ]
  },
  {
   "cell_type": "code",
   "execution_count": 34,
   "metadata": {},
   "outputs": [
    {
     "name": "stdout",
     "output_type": "stream",
     "text": [
      "The MSE of the training data is: 1.392795460152973\n",
      "The MSE of the validating data is: 1.3006093432633716\n"
     ]
    }
   ],
   "source": [
    "#mean squared errors\n",
    "y_pred_train=logreg.predict(X_train)\n",
    "MSE_train=mean_squared_error(y_train, y_pred_train)\n",
    "\n",
    "y_pred_val=logreg.predict(X_val)\n",
    "MSE_val=mean_squared_error(y_val, y_pred_val)\n",
    "\n",
    "\n",
    "print('The MSE of the training data is:', MSE_train)\n",
    "print('The MSE of the validating data is:', MSE_val)\n",
    "\n",
    "#We get a bit of an underfit, since MSE_val<MSE_train. "
   ]
  },
  {
   "cell_type": "code",
   "execution_count": 35,
   "metadata": {},
   "outputs": [
    {
     "name": "stdout",
     "output_type": "stream",
     "text": [
      "The RMSE of the logistic regression is: 1.1825681515034099\n"
     ]
    }
   ],
   "source": [
    "#generalization/prediction for new data (we use test data)\n",
    "y_pred_logreg=logreg.predict(X_test)\n",
    "\n",
    "#compute the root mean squared error\n",
    "MSE_test=mean_squared_error(y_test, y_pred_logreg)\n",
    "RMSE=np.sqrt(MSE_test)\n",
    "\n",
    "print('The RMSE of the logistic regression is:', RMSE)\n",
    "\n",
    "#we are not interested so far in probabilities, so no need to look at the log_loss"
   ]
  },
  {
   "cell_type": "code",
   "execution_count": 36,
   "metadata": {},
   "outputs": [
    {
     "data": {
      "text/plain": "BrukerID  0    4    6    8    9    11   12   16   17   18   ...  365  367  \\\n0         0.0  0.0  0.0  0.0  0.0  0.0  0.0  0.0  0.0  0.0  ...  3.0  0.0   \n1         0.0  0.0  0.0  0.0  5.0  0.0  0.0  0.0  0.0  0.0  ...  0.0  0.0   \n2         0.0  0.0  0.0  0.0  4.0  0.0  0.0  0.0  0.0  0.0  ...  0.0  3.0   \n3         0.0  0.0  0.0  0.0  0.0  0.0  0.0  0.0  0.0  0.0  ...  0.0  0.0   \n4         0.0  0.0  0.0  0.0  0.0  0.0  0.0  0.0  0.0  0.0  ...  0.0  0.0   \n\nBrukerID  369  374  375  377  378  379  380  381  \n0         0.0  0.0  0.0  0.0  0.0  0.0  0.0  0.0  \n1         0.0  0.0  0.0  0.0  0.0  2.0  0.0  0.0  \n2         0.0  0.0  0.0  0.0  0.0  0.0  0.0  0.0  \n3         0.0  0.0  0.0  0.0  0.0  0.0  0.0  0.0  \n4         0.0  0.0  0.0  0.0  0.0  0.0  0.0  0.0  \n\n[5 rows x 200 columns]",
      "text/html": "<div>\n<style scoped>\n    .dataframe tbody tr th:only-of-type {\n        vertical-align: middle;\n    }\n\n    .dataframe tbody tr th {\n        vertical-align: top;\n    }\n\n    .dataframe thead th {\n        text-align: right;\n    }\n</style>\n<table border=\"1\" class=\"dataframe\">\n  <thead>\n    <tr style=\"text-align: right;\">\n      <th>BrukerID</th>\n      <th>0</th>\n      <th>4</th>\n      <th>6</th>\n      <th>8</th>\n      <th>9</th>\n      <th>11</th>\n      <th>12</th>\n      <th>16</th>\n      <th>17</th>\n      <th>18</th>\n      <th>...</th>\n      <th>365</th>\n      <th>367</th>\n      <th>369</th>\n      <th>374</th>\n      <th>375</th>\n      <th>377</th>\n      <th>378</th>\n      <th>379</th>\n      <th>380</th>\n      <th>381</th>\n    </tr>\n  </thead>\n  <tbody>\n    <tr>\n      <th>0</th>\n      <td>0.0</td>\n      <td>0.0</td>\n      <td>0.0</td>\n      <td>0.0</td>\n      <td>0.0</td>\n      <td>0.0</td>\n      <td>0.0</td>\n      <td>0.0</td>\n      <td>0.0</td>\n      <td>0.0</td>\n      <td>...</td>\n      <td>3.0</td>\n      <td>0.0</td>\n      <td>0.0</td>\n      <td>0.0</td>\n      <td>0.0</td>\n      <td>0.0</td>\n      <td>0.0</td>\n      <td>0.0</td>\n      <td>0.0</td>\n      <td>0.0</td>\n    </tr>\n    <tr>\n      <th>1</th>\n      <td>0.0</td>\n      <td>0.0</td>\n      <td>0.0</td>\n      <td>0.0</td>\n      <td>5.0</td>\n      <td>0.0</td>\n      <td>0.0</td>\n      <td>0.0</td>\n      <td>0.0</td>\n      <td>0.0</td>\n      <td>...</td>\n      <td>0.0</td>\n      <td>0.0</td>\n      <td>0.0</td>\n      <td>0.0</td>\n      <td>0.0</td>\n      <td>0.0</td>\n      <td>0.0</td>\n      <td>2.0</td>\n      <td>0.0</td>\n      <td>0.0</td>\n    </tr>\n    <tr>\n      <th>2</th>\n      <td>0.0</td>\n      <td>0.0</td>\n      <td>0.0</td>\n      <td>0.0</td>\n      <td>4.0</td>\n      <td>0.0</td>\n      <td>0.0</td>\n      <td>0.0</td>\n      <td>0.0</td>\n      <td>0.0</td>\n      <td>...</td>\n      <td>0.0</td>\n      <td>3.0</td>\n      <td>0.0</td>\n      <td>0.0</td>\n      <td>0.0</td>\n      <td>0.0</td>\n      <td>0.0</td>\n      <td>0.0</td>\n      <td>0.0</td>\n      <td>0.0</td>\n    </tr>\n    <tr>\n      <th>3</th>\n      <td>0.0</td>\n      <td>0.0</td>\n      <td>0.0</td>\n      <td>0.0</td>\n      <td>0.0</td>\n      <td>0.0</td>\n      <td>0.0</td>\n      <td>0.0</td>\n      <td>0.0</td>\n      <td>0.0</td>\n      <td>...</td>\n      <td>0.0</td>\n      <td>0.0</td>\n      <td>0.0</td>\n      <td>0.0</td>\n      <td>0.0</td>\n      <td>0.0</td>\n      <td>0.0</td>\n      <td>0.0</td>\n      <td>0.0</td>\n      <td>0.0</td>\n    </tr>\n    <tr>\n      <th>4</th>\n      <td>0.0</td>\n      <td>0.0</td>\n      <td>0.0</td>\n      <td>0.0</td>\n      <td>0.0</td>\n      <td>0.0</td>\n      <td>0.0</td>\n      <td>0.0</td>\n      <td>0.0</td>\n      <td>0.0</td>\n      <td>...</td>\n      <td>0.0</td>\n      <td>0.0</td>\n      <td>0.0</td>\n      <td>0.0</td>\n      <td>0.0</td>\n      <td>0.0</td>\n      <td>0.0</td>\n      <td>0.0</td>\n      <td>0.0</td>\n      <td>0.0</td>\n    </tr>\n  </tbody>\n</table>\n<p>5 rows × 200 columns</p>\n</div>"
     },
     "execution_count": 36,
     "metadata": {},
     "output_type": "execute_result"
    }
   ],
   "source": [
    "#Colaborative recommender model, this model consist of a cosine similarity\n",
    "#display a table of the ratings of each user (line) for each movie (column), and fill with 0.0 the ones tha haven't been rated\n",
    "ratings_matrix = rangering_df.pivot_table(index=['FilmID'],columns=['BrukerID'],values='Rangering').reset_index(drop=True)\n",
    "ratings_matrix.fillna( 0, inplace = True)\n",
    "ratings_matrix.head()"
   ]
  },
  {
   "cell_type": "code",
   "execution_count": 37,
   "metadata": {},
   "outputs": [
    {
     "data": {
      "text/plain": "        0         1         2         3         4         5         6    \\\n0  0.000000  0.000000  0.057145  0.199254  0.000000  0.149592  0.346989   \n1  0.000000  0.000000  0.189036  0.000000  0.052636  0.185567  0.011478   \n2  0.057145  0.189036  0.000000  0.000000  0.000000  0.000000  0.000000   \n3  0.199254  0.000000  0.000000  0.000000  0.000000  0.096872  0.224702   \n4  0.000000  0.052636  0.000000  0.000000  0.000000  0.000000  0.000000   \n\n        7         8         9    ...       388       389       390  391  \\\n0  0.118262  0.000000  0.167248  ...  0.171184  0.000000  0.225704  0.0   \n1  0.000000  0.128956  0.107885  ...  0.076447  0.263599  0.129913  0.0   \n2  0.000000  0.000000  0.000000  ...  0.190757  0.043850  0.100604  0.0   \n3  0.000000  0.000000  0.189536  ...  0.110855  0.000000  0.277705  0.0   \n4  0.000000  0.000000  0.000000  ...  0.304306  0.000000  0.000000  0.0   \n\n       392  393       394       395      396       397  \n0  0.00000  0.0  0.125278  0.336581  0.00000  0.000000  \n1  0.09226  0.0  0.204446  0.000000  0.20069  0.068704  \n2  0.00000  0.0  0.179242  0.037043  0.00000  0.238106  \n3  0.00000  0.0  0.054085  0.145308  0.00000  0.000000  \n4  0.00000  0.0  0.023995  0.000000  0.00000  0.000000  \n\n[5 rows x 398 columns]",
      "text/html": "<div>\n<style scoped>\n    .dataframe tbody tr th:only-of-type {\n        vertical-align: middle;\n    }\n\n    .dataframe tbody tr th {\n        vertical-align: top;\n    }\n\n    .dataframe thead th {\n        text-align: right;\n    }\n</style>\n<table border=\"1\" class=\"dataframe\">\n  <thead>\n    <tr style=\"text-align: right;\">\n      <th></th>\n      <th>0</th>\n      <th>1</th>\n      <th>2</th>\n      <th>3</th>\n      <th>4</th>\n      <th>5</th>\n      <th>6</th>\n      <th>7</th>\n      <th>8</th>\n      <th>9</th>\n      <th>...</th>\n      <th>388</th>\n      <th>389</th>\n      <th>390</th>\n      <th>391</th>\n      <th>392</th>\n      <th>393</th>\n      <th>394</th>\n      <th>395</th>\n      <th>396</th>\n      <th>397</th>\n    </tr>\n  </thead>\n  <tbody>\n    <tr>\n      <th>0</th>\n      <td>0.000000</td>\n      <td>0.000000</td>\n      <td>0.057145</td>\n      <td>0.199254</td>\n      <td>0.000000</td>\n      <td>0.149592</td>\n      <td>0.346989</td>\n      <td>0.118262</td>\n      <td>0.000000</td>\n      <td>0.167248</td>\n      <td>...</td>\n      <td>0.171184</td>\n      <td>0.000000</td>\n      <td>0.225704</td>\n      <td>0.0</td>\n      <td>0.00000</td>\n      <td>0.0</td>\n      <td>0.125278</td>\n      <td>0.336581</td>\n      <td>0.00000</td>\n      <td>0.000000</td>\n    </tr>\n    <tr>\n      <th>1</th>\n      <td>0.000000</td>\n      <td>0.000000</td>\n      <td>0.189036</td>\n      <td>0.000000</td>\n      <td>0.052636</td>\n      <td>0.185567</td>\n      <td>0.011478</td>\n      <td>0.000000</td>\n      <td>0.128956</td>\n      <td>0.107885</td>\n      <td>...</td>\n      <td>0.076447</td>\n      <td>0.263599</td>\n      <td>0.129913</td>\n      <td>0.0</td>\n      <td>0.09226</td>\n      <td>0.0</td>\n      <td>0.204446</td>\n      <td>0.000000</td>\n      <td>0.20069</td>\n      <td>0.068704</td>\n    </tr>\n    <tr>\n      <th>2</th>\n      <td>0.057145</td>\n      <td>0.189036</td>\n      <td>0.000000</td>\n      <td>0.000000</td>\n      <td>0.000000</td>\n      <td>0.000000</td>\n      <td>0.000000</td>\n      <td>0.000000</td>\n      <td>0.000000</td>\n      <td>0.000000</td>\n      <td>...</td>\n      <td>0.190757</td>\n      <td>0.043850</td>\n      <td>0.100604</td>\n      <td>0.0</td>\n      <td>0.00000</td>\n      <td>0.0</td>\n      <td>0.179242</td>\n      <td>0.037043</td>\n      <td>0.00000</td>\n      <td>0.238106</td>\n    </tr>\n    <tr>\n      <th>3</th>\n      <td>0.199254</td>\n      <td>0.000000</td>\n      <td>0.000000</td>\n      <td>0.000000</td>\n      <td>0.000000</td>\n      <td>0.096872</td>\n      <td>0.224702</td>\n      <td>0.000000</td>\n      <td>0.000000</td>\n      <td>0.189536</td>\n      <td>...</td>\n      <td>0.110855</td>\n      <td>0.000000</td>\n      <td>0.277705</td>\n      <td>0.0</td>\n      <td>0.00000</td>\n      <td>0.0</td>\n      <td>0.054085</td>\n      <td>0.145308</td>\n      <td>0.00000</td>\n      <td>0.000000</td>\n    </tr>\n    <tr>\n      <th>4</th>\n      <td>0.000000</td>\n      <td>0.052636</td>\n      <td>0.000000</td>\n      <td>0.000000</td>\n      <td>0.000000</td>\n      <td>0.000000</td>\n      <td>0.000000</td>\n      <td>0.000000</td>\n      <td>0.000000</td>\n      <td>0.000000</td>\n      <td>...</td>\n      <td>0.304306</td>\n      <td>0.000000</td>\n      <td>0.000000</td>\n      <td>0.0</td>\n      <td>0.00000</td>\n      <td>0.0</td>\n      <td>0.023995</td>\n      <td>0.000000</td>\n      <td>0.00000</td>\n      <td>0.000000</td>\n    </tr>\n  </tbody>\n</table>\n<p>5 rows × 398 columns</p>\n</div>"
     },
     "execution_count": 37,
     "metadata": {},
     "output_type": "execute_result"
    }
   ],
   "source": [
    "#computing the cosine similarity, which express the correlation between a movie j and another movie k\n",
    "movie_similarity=cosine_similarity(ratings_matrix)\n",
    "#we fill with the value 0 the similarity of a movie i with itself, so that the system would not recommend movies already seen/rated\n",
    "np.fill_diagonal(movie_similarity, 0 ) \n",
    "\n",
    "#display this data in a table\n",
    "similarity_matrix=pd.DataFrame(movie_similarity)\n",
    "similarity_matrix.head()"
   ]
  },
  {
   "cell_type": "code",
   "execution_count": 38,
   "metadata": {},
   "outputs": [],
   "source": [
    "#I am confused with this collaborative model and how to proceed. Any hints or comments please?"
   ]
  },
  {
   "cell_type": "code",
   "execution_count": 39,
   "metadata": {},
   "outputs": [],
   "source": [
    "#For a combined recommended model, I think of getting the predicted value y by the formula \n",
    "#y=(y_content_based + y_collaborative)/2, where y_content_based is given by the first content-based model and y_collaborative by the collaborative model"
   ]
  }
 ],
 "metadata": {
  "kernelspec": {
   "display_name": "Python 3",
   "language": "python",
   "name": "python3"
  },
  "language_info": {
   "codemirror_mode": {
    "name": "ipython",
    "version": 3
   },
   "file_extension": ".py",
   "mimetype": "text/x-python",
   "name": "python",
   "nbconvert_exporter": "python",
   "pygments_lexer": "ipython3",
   "version": "3.8.3"
  }
 },
 "nbformat": 4,
 "nbformat_minor": 4
}