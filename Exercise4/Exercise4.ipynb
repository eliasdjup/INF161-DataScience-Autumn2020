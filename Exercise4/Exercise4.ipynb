{
 "cells": [
  {
   "cell_type": "markdown",
   "metadata": {
    "collapsed": true,
    "pycharm": {
     "name": "#%% md\n"
    }
   },
   "source": [
    "# Exercise 4\n",
    "Author: Elias Djupesland"
   ]
  },
  {
   "cell_type": "code",
   "execution_count": 4,
   "outputs": [],
   "source": [
    "import pandas as pd\n",
    "import matplotlib.pyplot as plt\n",
    "from sklearn.linear_model import LinearRegression\n",
    "import seaborn as sns\n",
    "sns.set_theme(style=\"darkgrid\",palette=\"Paired\")\n",
    "\n",
    "df = pd.read_json('traffic_rules.json')\n",
    "df.to_csv(\"traffic_rules.csv\")"
   ],
   "metadata": {
    "collapsed": false,
    "pycharm": {
     "name": "#%%\n"
    }
   }
  },
  {
   "cell_type": "code",
   "execution_count": 5,
   "outputs": [
    {
     "name": "stdout",
     "output_type": "stream",
     "text": [
      "Ordinal data\n",
      "\n",
      "Coef: [ 0.00000000e+00 -2.37471677e-17]\n",
      "Intercept: 0.5714285714285714\n",
      "R^2: 0.0\n",
      "\n",
      "Categorical data\n",
      "\n",
      "Coef: [-0.47058824  0.23529412  0.23529412 -0.17647059 -0.17647059  0.35294118]\n",
      "Intercept: 0.7647058823529412\n",
      "R^2: 0.7941176470588235\n",
      "\n"
     ]
    }
   ],
   "source": [
    "df_ordinal = pd.read_excel('traffic_rules.xlsx', sheet_name = 'rules_ordinal')\n",
    "df_categorical = pd.read_excel('traffic_rules.xlsx', sheet_name = 'rules_categorical')\n",
    "\n",
    "ordinal_X = df_ordinal[[\"Type\", \"Traffic Light\"]]\n",
    "ordinal_y = df_ordinal[\"Pass\"]\n",
    "\n",
    "categorical_X = df_categorical[[\"Normal Vehicle\", \"Ambulance\", \"Police\", \"Red\", \"Yellow\", \"Green\"]]\n",
    "categorical_y = df_categorical[\"Pass\"]\n",
    "\n",
    "def linReg(X, y):\n",
    "    reg = LinearRegression().fit(X,y)\n",
    "    print(\"\\n\"+\"Coef: \" + str(reg.coef_))\n",
    "    print(\"Intercept: \" + str(reg.intercept_))\n",
    "    print(\"R^2: \" + str(reg.score(X,y))+\"\\n\")\n",
    "\n",
    "print(\"Ordinal data\")\n",
    "linReg(ordinal_X,ordinal_y)\n",
    "print(\"Categorical data\")\n",
    "linReg(categorical_X,categorical_y)"
   ],
   "metadata": {
    "collapsed": false,
    "pycharm": {
     "name": "#%%\n"
    }
   }
  },
  {
   "cell_type": "markdown",
   "source": [
    "*With what data does the model perform better?  Why?*\n",
    "\n",
    "The model trained on categorical data performed much better. This is because there is a lot more information when the data is categorized.\n",
    "There is more relation between each X and the y value.\n",
    "\n",
    "## 3\n",
    "\n",
    "\n",
    "1.  What are the names of the animals in the table?\n",
    "```sql\n",
    "SELECT Animal FROM Animals\n",
    "```\n",
    "2.  What are the names of the animals in the table that are cats?\n",
    "```sql\n",
    "SELECT Name FROM Animals WHERE Animal == \"Cat\"\n",
    "```\n",
    "3.  How many IDs are in the table?\n",
    "```sql\n",
    "SELECT COUNT(ID) FROM Animals\n",
    "```\n",
    "4.  How many of each type of animal do we have in the table?\n",
    "```sql\n",
    "SELECT COUNT(ID) FROM Animals GROUP BY Animal\n",
    "```\n",
    "5.  How many of each type of animal do we have in the table that are cats?\n",
    "```sql\n",
    "SELECT COUNT(ID) FROM Animals GROUP BY Animal WHERE Animal == \"Cat\"\n",
    "```\n",
    "6.  How  to order the  rows of  the table  in ascending  order with  respect  to thenames of the animals?\n",
    "```sql\n",
    "SELECT * FROM Animals SORT ASC\n",
    "```\n",
    "Now, consider also the table in Figure 2 and write an SQL query that:\n",
    "7.  returns a table with just two columns:  the name of the pet and the nameof the owner.\n",
    "\n",
    "```sql\n",
    "SELECT Animals.Name, Owners.Name\n",
    "FROM Animals\n",
    "INNER JOIN Owners ON Animals.ID = Owners.Pet_ID\n",
    "```\n"
   ],
   "metadata": {
    "collapsed": false,
    "pycharm": {
     "name": "#%% md\n"
    }
   }
  }
 ],
 "metadata": {
  "kernelspec": {
   "display_name": "Python 3",
   "language": "python",
   "name": "python3"
  },
  "language_info": {
   "codemirror_mode": {
    "name": "ipython",
    "version": 2
   },
   "file_extension": ".py",
   "mimetype": "text/x-python",
   "name": "python",
   "nbconvert_exporter": "python",
   "pygments_lexer": "ipython2",
   "version": "2.7.6"
  }
 },
 "nbformat": 4,
 "nbformat_minor": 0
}